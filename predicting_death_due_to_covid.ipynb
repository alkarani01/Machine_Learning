{
 "cells": [
  {
   "cell_type": "code",
   "execution_count": 251,
   "metadata": {
    "execution": {
     "iopub.execute_input": "2022-01-24T18:08:18.406283Z",
     "iopub.status.busy": "2022-01-24T18:08:18.405906Z",
     "iopub.status.idle": "2022-01-24T18:08:19.582707Z",
     "shell.execute_reply": "2022-01-24T18:08:19.58153Z",
     "shell.execute_reply.started": "2022-01-24T18:08:18.406169Z"
    }
   },
   "outputs": [],
   "source": [
    "import pandas as pd\n",
    "import numpy as np\n",
    "import matplotlib.pyplot as plt\n",
    "import warnings\n",
    "warnings.simplefilter(\"ignore\")\n",
    "import seaborn as sns"
   ]
  },
  {
   "cell_type": "code",
   "execution_count": 252,
   "metadata": {},
   "outputs": [],
   "source": [
    "#Import csv file using panda dataframe function"
   ]
  },
  {
   "cell_type": "code",
   "execution_count": 381,
   "metadata": {
    "execution": {
     "iopub.execute_input": "2022-01-24T18:08:19.597483Z",
     "iopub.status.busy": "2022-01-24T18:08:19.590404Z",
     "iopub.status.idle": "2022-01-24T18:08:58.810284Z",
     "shell.execute_reply": "2022-01-24T18:08:58.806822Z",
     "shell.execute_reply.started": "2022-01-24T18:08:19.597412Z"
    }
   },
   "outputs": [
    {
     "data": {
      "text/html": [
       "<div>\n",
       "<style scoped>\n",
       "    .dataframe tbody tr th:only-of-type {\n",
       "        vertical-align: middle;\n",
       "    }\n",
       "\n",
       "    .dataframe tbody tr th {\n",
       "        vertical-align: top;\n",
       "    }\n",
       "\n",
       "    .dataframe thead th {\n",
       "        text-align: right;\n",
       "    }\n",
       "</style>\n",
       "<table border=\"1\" class=\"dataframe\">\n",
       "  <thead>\n",
       "    <tr style=\"text-align: right;\">\n",
       "      <th></th>\n",
       "      <th>Unnamed: 0</th>\n",
       "      <th>hosp_yn</th>\n",
       "      <th>death_yn</th>\n",
       "      <th>Date</th>\n",
       "      <th>Laboratory-confirmed case</th>\n",
       "      <th>Probable Case</th>\n",
       "      <th>0 - 9 Years</th>\n",
       "      <th>10 - 19 Years</th>\n",
       "      <th>20 - 29 Years</th>\n",
       "      <th>30 - 39 Years</th>\n",
       "      <th>...</th>\n",
       "      <th>Aug</th>\n",
       "      <th>Feb</th>\n",
       "      <th>Jan</th>\n",
       "      <th>July</th>\n",
       "      <th>June</th>\n",
       "      <th>March</th>\n",
       "      <th>May</th>\n",
       "      <th>Nov</th>\n",
       "      <th>Oct</th>\n",
       "      <th>Sept</th>\n",
       "    </tr>\n",
       "  </thead>\n",
       "  <tbody>\n",
       "    <tr>\n",
       "      <th>0</th>\n",
       "      <td>5338266</td>\n",
       "      <td>0</td>\n",
       "      <td>0</td>\n",
       "      <td>13</td>\n",
       "      <td>1</td>\n",
       "      <td>0</td>\n",
       "      <td>0</td>\n",
       "      <td>1</td>\n",
       "      <td>0</td>\n",
       "      <td>0</td>\n",
       "      <td>...</td>\n",
       "      <td>1</td>\n",
       "      <td>0</td>\n",
       "      <td>0</td>\n",
       "      <td>0</td>\n",
       "      <td>0</td>\n",
       "      <td>0</td>\n",
       "      <td>0</td>\n",
       "      <td>0</td>\n",
       "      <td>0</td>\n",
       "      <td>0</td>\n",
       "    </tr>\n",
       "    <tr>\n",
       "      <th>1</th>\n",
       "      <td>6061035</td>\n",
       "      <td>1</td>\n",
       "      <td>0</td>\n",
       "      <td>10</td>\n",
       "      <td>1</td>\n",
       "      <td>0</td>\n",
       "      <td>0</td>\n",
       "      <td>0</td>\n",
       "      <td>0</td>\n",
       "      <td>0</td>\n",
       "      <td>...</td>\n",
       "      <td>0</td>\n",
       "      <td>0</td>\n",
       "      <td>0</td>\n",
       "      <td>0</td>\n",
       "      <td>1</td>\n",
       "      <td>0</td>\n",
       "      <td>0</td>\n",
       "      <td>0</td>\n",
       "      <td>0</td>\n",
       "      <td>0</td>\n",
       "    </tr>\n",
       "    <tr>\n",
       "      <th>2</th>\n",
       "      <td>3620311</td>\n",
       "      <td>0</td>\n",
       "      <td>0</td>\n",
       "      <td>20</td>\n",
       "      <td>1</td>\n",
       "      <td>0</td>\n",
       "      <td>0</td>\n",
       "      <td>0</td>\n",
       "      <td>0</td>\n",
       "      <td>0</td>\n",
       "      <td>...</td>\n",
       "      <td>0</td>\n",
       "      <td>0</td>\n",
       "      <td>0</td>\n",
       "      <td>0</td>\n",
       "      <td>1</td>\n",
       "      <td>0</td>\n",
       "      <td>0</td>\n",
       "      <td>0</td>\n",
       "      <td>0</td>\n",
       "      <td>0</td>\n",
       "    </tr>\n",
       "    <tr>\n",
       "      <th>3</th>\n",
       "      <td>7519070</td>\n",
       "      <td>0</td>\n",
       "      <td>0</td>\n",
       "      <td>24</td>\n",
       "      <td>1</td>\n",
       "      <td>0</td>\n",
       "      <td>0</td>\n",
       "      <td>0</td>\n",
       "      <td>0</td>\n",
       "      <td>1</td>\n",
       "      <td>...</td>\n",
       "      <td>1</td>\n",
       "      <td>0</td>\n",
       "      <td>0</td>\n",
       "      <td>0</td>\n",
       "      <td>0</td>\n",
       "      <td>0</td>\n",
       "      <td>0</td>\n",
       "      <td>0</td>\n",
       "      <td>0</td>\n",
       "      <td>0</td>\n",
       "    </tr>\n",
       "    <tr>\n",
       "      <th>4</th>\n",
       "      <td>1117180</td>\n",
       "      <td>0</td>\n",
       "      <td>0</td>\n",
       "      <td>23</td>\n",
       "      <td>1</td>\n",
       "      <td>0</td>\n",
       "      <td>0</td>\n",
       "      <td>0</td>\n",
       "      <td>1</td>\n",
       "      <td>0</td>\n",
       "      <td>...</td>\n",
       "      <td>0</td>\n",
       "      <td>0</td>\n",
       "      <td>0</td>\n",
       "      <td>0</td>\n",
       "      <td>1</td>\n",
       "      <td>0</td>\n",
       "      <td>0</td>\n",
       "      <td>0</td>\n",
       "      <td>0</td>\n",
       "      <td>0</td>\n",
       "    </tr>\n",
       "  </tbody>\n",
       "</table>\n",
       "<p>5 rows × 36 columns</p>\n",
       "</div>"
      ],
      "text/plain": [
       "   Unnamed: 0  hosp_yn  death_yn  Date  Laboratory-confirmed case  \\\n",
       "0     5338266        0         0    13                          1   \n",
       "1     6061035        1         0    10                          1   \n",
       "2     3620311        0         0    20                          1   \n",
       "3     7519070        0         0    24                          1   \n",
       "4     1117180        0         0    23                          1   \n",
       "\n",
       "   Probable Case  0 - 9 Years  10 - 19 Years  20 - 29 Years  30 - 39 Years  \\\n",
       "0              0            0              1              0              0   \n",
       "1              0            0              0              0              0   \n",
       "2              0            0              0              0              0   \n",
       "3              0            0              0              0              1   \n",
       "4              0            0              0              1              0   \n",
       "\n",
       "   ...  Aug  Feb  Jan  July  June  March  May  Nov  Oct  Sept  \n",
       "0  ...    1    0    0     0     0      0    0    0    0     0  \n",
       "1  ...    0    0    0     0     1      0    0    0    0     0  \n",
       "2  ...    0    0    0     0     1      0    0    0    0     0  \n",
       "3  ...    1    0    0     0     0      0    0    0    0     0  \n",
       "4  ...    0    0    0     0     1      0    0    0    0     0  \n",
       "\n",
       "[5 rows x 36 columns]"
      ]
     },
     "execution_count": 381,
     "metadata": {},
     "output_type": "execute_result"
    }
   ],
   "source": [
    "Covid = pd.read_csv('predict_death_due_to_covid_cleaned.csv')\n",
    "Covid.head()"
   ]
  },
  {
   "cell_type": "code",
   "execution_count": 182,
   "metadata": {},
   "outputs": [],
   "source": [
    "#Check and count null values or missing information"
   ]
  },
  {
   "cell_type": "code",
   "execution_count": 382,
   "metadata": {
    "execution": {
     "iopub.execute_input": "2022-01-24T18:08:58.855608Z",
     "iopub.status.busy": "2022-01-24T18:08:58.854553Z",
     "iopub.status.idle": "2022-01-24T18:09:06.173637Z",
     "shell.execute_reply": "2022-01-24T18:09:06.172686Z",
     "shell.execute_reply.started": "2022-01-24T18:08:58.855569Z"
    }
   },
   "outputs": [
    {
     "name": "stdout",
     "output_type": "stream",
     "text": [
      "<class 'pandas.core.frame.DataFrame'>\n",
      "RangeIndex: 112960 entries, 0 to 112959\n",
      "Data columns (total 36 columns):\n",
      " #   Column                                                Non-Null Count   Dtype\n",
      "---  ------                                                --------------   -----\n",
      " 0   Unnamed: 0                                            112960 non-null  int64\n",
      " 1   hosp_yn                                               112960 non-null  int64\n",
      " 2   death_yn                                              112960 non-null  int64\n",
      " 3   Date                                                  112960 non-null  int64\n",
      " 4   Laboratory-confirmed case                             112960 non-null  int64\n",
      " 5   Probable Case                                         112960 non-null  int64\n",
      " 6   0 - 9 Years                                           112960 non-null  int64\n",
      " 7   10 - 19 Years                                         112960 non-null  int64\n",
      " 8   20 - 29 Years                                         112960 non-null  int64\n",
      " 9   30 - 39 Years                                         112960 non-null  int64\n",
      " 10  40 - 49 Years                                         112960 non-null  int64\n",
      " 11  50 - 59 Years                                         112960 non-null  int64\n",
      " 12  60 - 69 Years                                         112960 non-null  int64\n",
      " 13  70 - 79 Years                                         112960 non-null  int64\n",
      " 14  80+ Years                                             112960 non-null  int64\n",
      " 15  American Indian/Alaska Native, Non-Hispanic           112960 non-null  int64\n",
      " 16  Asian, Non-Hispanic                                   112960 non-null  int64\n",
      " 17  Black, Non-Hispanic                                   112960 non-null  int64\n",
      " 18  Hispanic/Latino                                       112960 non-null  int64\n",
      " 19  Multiple/Other, Non-Hispanic                          112960 non-null  int64\n",
      " 20  Native Hawaiian/Other Pacific Islander, Non-Hispanic  112960 non-null  int64\n",
      " 21  White, Non-Hispanic                                   112960 non-null  int64\n",
      " 22  Female                                                112960 non-null  int64\n",
      " 23  Male                                                  112960 non-null  int64\n",
      " 24  Other                                                 112960 non-null  int64\n",
      " 25  April                                                 112960 non-null  int64\n",
      " 26  Aug                                                   112960 non-null  int64\n",
      " 27  Feb                                                   112960 non-null  int64\n",
      " 28  Jan                                                   112960 non-null  int64\n",
      " 29  July                                                  112960 non-null  int64\n",
      " 30  June                                                  112960 non-null  int64\n",
      " 31  March                                                 112960 non-null  int64\n",
      " 32  May                                                   112960 non-null  int64\n",
      " 33  Nov                                                   112960 non-null  int64\n",
      " 34  Oct                                                   112960 non-null  int64\n",
      " 35  Sept                                                  112960 non-null  int64\n",
      "dtypes: int64(36)\n",
      "memory usage: 31.0 MB\n"
     ]
    }
   ],
   "source": [
    "Covid.info(null_counts=True)"
   ]
  },
  {
   "cell_type": "code",
   "execution_count": 229,
   "metadata": {
    "execution": {
     "iopub.execute_input": "2022-01-24T18:14:32.576042Z",
     "iopub.status.busy": "2022-01-24T18:14:32.569123Z",
     "iopub.status.idle": "2022-01-24T18:14:32.58316Z",
     "shell.execute_reply": "2022-01-24T18:14:32.582376Z",
     "shell.execute_reply.started": "2022-01-24T18:14:32.575978Z"
    }
   },
   "outputs": [],
   "source": [
    "#Model building"
   ]
  },
  {
   "cell_type": "code",
   "execution_count": 383,
   "metadata": {
    "execution": {
     "iopub.execute_input": "2022-01-24T18:14:40.467505Z",
     "iopub.status.busy": "2022-01-24T18:14:40.45998Z",
     "iopub.status.idle": "2022-01-24T18:14:40.61644Z",
     "shell.execute_reply": "2022-01-24T18:14:40.615313Z",
     "shell.execute_reply.started": "2022-01-24T18:14:40.467426Z"
    }
   },
   "outputs": [
    {
     "data": {
      "text/html": [
       "<div>\n",
       "<style scoped>\n",
       "    .dataframe tbody tr th:only-of-type {\n",
       "        vertical-align: middle;\n",
       "    }\n",
       "\n",
       "    .dataframe tbody tr th {\n",
       "        vertical-align: top;\n",
       "    }\n",
       "\n",
       "    .dataframe thead th {\n",
       "        text-align: right;\n",
       "    }\n",
       "</style>\n",
       "<table border=\"1\" class=\"dataframe\">\n",
       "  <thead>\n",
       "    <tr style=\"text-align: right;\">\n",
       "      <th></th>\n",
       "      <th>Unnamed: 0</th>\n",
       "      <th>hosp_yn</th>\n",
       "      <th>Date</th>\n",
       "      <th>Laboratory-confirmed case</th>\n",
       "      <th>Probable Case</th>\n",
       "      <th>0 - 9 Years</th>\n",
       "      <th>10 - 19 Years</th>\n",
       "      <th>20 - 29 Years</th>\n",
       "      <th>30 - 39 Years</th>\n",
       "      <th>40 - 49 Years</th>\n",
       "      <th>...</th>\n",
       "      <th>Aug</th>\n",
       "      <th>Feb</th>\n",
       "      <th>Jan</th>\n",
       "      <th>July</th>\n",
       "      <th>June</th>\n",
       "      <th>March</th>\n",
       "      <th>May</th>\n",
       "      <th>Nov</th>\n",
       "      <th>Oct</th>\n",
       "      <th>Sept</th>\n",
       "    </tr>\n",
       "  </thead>\n",
       "  <tbody>\n",
       "    <tr>\n",
       "      <th>0</th>\n",
       "      <td>5338266</td>\n",
       "      <td>0</td>\n",
       "      <td>13</td>\n",
       "      <td>1</td>\n",
       "      <td>0</td>\n",
       "      <td>0</td>\n",
       "      <td>1</td>\n",
       "      <td>0</td>\n",
       "      <td>0</td>\n",
       "      <td>0</td>\n",
       "      <td>...</td>\n",
       "      <td>1</td>\n",
       "      <td>0</td>\n",
       "      <td>0</td>\n",
       "      <td>0</td>\n",
       "      <td>0</td>\n",
       "      <td>0</td>\n",
       "      <td>0</td>\n",
       "      <td>0</td>\n",
       "      <td>0</td>\n",
       "      <td>0</td>\n",
       "    </tr>\n",
       "    <tr>\n",
       "      <th>1</th>\n",
       "      <td>6061035</td>\n",
       "      <td>1</td>\n",
       "      <td>10</td>\n",
       "      <td>1</td>\n",
       "      <td>0</td>\n",
       "      <td>0</td>\n",
       "      <td>0</td>\n",
       "      <td>0</td>\n",
       "      <td>0</td>\n",
       "      <td>0</td>\n",
       "      <td>...</td>\n",
       "      <td>0</td>\n",
       "      <td>0</td>\n",
       "      <td>0</td>\n",
       "      <td>0</td>\n",
       "      <td>1</td>\n",
       "      <td>0</td>\n",
       "      <td>0</td>\n",
       "      <td>0</td>\n",
       "      <td>0</td>\n",
       "      <td>0</td>\n",
       "    </tr>\n",
       "    <tr>\n",
       "      <th>2</th>\n",
       "      <td>3620311</td>\n",
       "      <td>0</td>\n",
       "      <td>20</td>\n",
       "      <td>1</td>\n",
       "      <td>0</td>\n",
       "      <td>0</td>\n",
       "      <td>0</td>\n",
       "      <td>0</td>\n",
       "      <td>0</td>\n",
       "      <td>0</td>\n",
       "      <td>...</td>\n",
       "      <td>0</td>\n",
       "      <td>0</td>\n",
       "      <td>0</td>\n",
       "      <td>0</td>\n",
       "      <td>1</td>\n",
       "      <td>0</td>\n",
       "      <td>0</td>\n",
       "      <td>0</td>\n",
       "      <td>0</td>\n",
       "      <td>0</td>\n",
       "    </tr>\n",
       "    <tr>\n",
       "      <th>3</th>\n",
       "      <td>7519070</td>\n",
       "      <td>0</td>\n",
       "      <td>24</td>\n",
       "      <td>1</td>\n",
       "      <td>0</td>\n",
       "      <td>0</td>\n",
       "      <td>0</td>\n",
       "      <td>0</td>\n",
       "      <td>1</td>\n",
       "      <td>0</td>\n",
       "      <td>...</td>\n",
       "      <td>1</td>\n",
       "      <td>0</td>\n",
       "      <td>0</td>\n",
       "      <td>0</td>\n",
       "      <td>0</td>\n",
       "      <td>0</td>\n",
       "      <td>0</td>\n",
       "      <td>0</td>\n",
       "      <td>0</td>\n",
       "      <td>0</td>\n",
       "    </tr>\n",
       "    <tr>\n",
       "      <th>4</th>\n",
       "      <td>1117180</td>\n",
       "      <td>0</td>\n",
       "      <td>23</td>\n",
       "      <td>1</td>\n",
       "      <td>0</td>\n",
       "      <td>0</td>\n",
       "      <td>0</td>\n",
       "      <td>1</td>\n",
       "      <td>0</td>\n",
       "      <td>0</td>\n",
       "      <td>...</td>\n",
       "      <td>0</td>\n",
       "      <td>0</td>\n",
       "      <td>0</td>\n",
       "      <td>0</td>\n",
       "      <td>1</td>\n",
       "      <td>0</td>\n",
       "      <td>0</td>\n",
       "      <td>0</td>\n",
       "      <td>0</td>\n",
       "      <td>0</td>\n",
       "    </tr>\n",
       "  </tbody>\n",
       "</table>\n",
       "<p>5 rows × 35 columns</p>\n",
       "</div>"
      ],
      "text/plain": [
       "   Unnamed: 0  hosp_yn  Date  Laboratory-confirmed case  Probable Case  \\\n",
       "0     5338266        0    13                          1              0   \n",
       "1     6061035        1    10                          1              0   \n",
       "2     3620311        0    20                          1              0   \n",
       "3     7519070        0    24                          1              0   \n",
       "4     1117180        0    23                          1              0   \n",
       "\n",
       "   0 - 9 Years  10 - 19 Years  20 - 29 Years  30 - 39 Years  40 - 49 Years  \\\n",
       "0            0              1              0              0              0   \n",
       "1            0              0              0              0              0   \n",
       "2            0              0              0              0              0   \n",
       "3            0              0              0              1              0   \n",
       "4            0              0              1              0              0   \n",
       "\n",
       "   ...  Aug  Feb  Jan  July  June  March  May  Nov  Oct  Sept  \n",
       "0  ...    1    0    0     0     0      0    0    0    0     0  \n",
       "1  ...    0    0    0     0     1      0    0    0    0     0  \n",
       "2  ...    0    0    0     0     1      0    0    0    0     0  \n",
       "3  ...    1    0    0     0     0      0    0    0    0     0  \n",
       "4  ...    0    0    0     0     1      0    0    0    0     0  \n",
       "\n",
       "[5 rows x 35 columns]"
      ]
     },
     "execution_count": 383,
     "metadata": {},
     "output_type": "execute_result"
    }
   ],
   "source": [
    "X = Covid.drop(['death_yn'], axis=1)\n",
    "X.head()"
   ]
  },
  {
   "cell_type": "code",
   "execution_count": 384,
   "metadata": {
    "execution": {
     "iopub.execute_input": "2022-01-24T18:14:40.618143Z",
     "iopub.status.busy": "2022-01-24T18:14:40.617859Z",
     "iopub.status.idle": "2022-01-24T18:14:40.63737Z",
     "shell.execute_reply": "2022-01-24T18:14:40.636444Z",
     "shell.execute_reply.started": "2022-01-24T18:14:40.618101Z"
    }
   },
   "outputs": [
    {
     "data": {
      "text/plain": [
       "0    0\n",
       "1    0\n",
       "2    0\n",
       "3    0\n",
       "4    0\n",
       "Name: death_yn, dtype: int64"
      ]
     },
     "execution_count": 384,
     "metadata": {},
     "output_type": "execute_result"
    }
   ],
   "source": [
    "y = Covid['death_yn']\n",
    "y.head()"
   ]
  },
  {
   "cell_type": "code",
   "execution_count": 371,
   "metadata": {
    "execution": {
     "iopub.execute_input": "2022-01-24T18:14:40.640744Z",
     "iopub.status.busy": "2022-01-24T18:14:40.639924Z",
     "iopub.status.idle": "2022-01-24T18:14:40.653432Z",
     "shell.execute_reply": "2022-01-24T18:14:40.652579Z",
     "shell.execute_reply.started": "2022-01-24T18:14:40.640697Z"
    }
   },
   "outputs": [],
   "source": [
    "#Taking a very small sample of the data, 1% for training as we have a lot of data. "
   ]
  },
  {
   "cell_type": "code",
   "execution_count": 473,
   "metadata": {
    "execution": {
     "iopub.execute_input": "2022-01-24T18:14:40.657168Z",
     "iopub.status.busy": "2022-01-24T18:14:40.655037Z",
     "iopub.status.idle": "2022-01-24T18:14:42.669869Z",
     "shell.execute_reply": "2022-01-24T18:14:42.668827Z",
     "shell.execute_reply.started": "2022-01-24T18:14:40.657068Z"
    }
   },
   "outputs": [
    {
     "data": {
      "text/html": [
       "<div>\n",
       "<style scoped>\n",
       "    .dataframe tbody tr th:only-of-type {\n",
       "        vertical-align: middle;\n",
       "    }\n",
       "\n",
       "    .dataframe tbody tr th {\n",
       "        vertical-align: top;\n",
       "    }\n",
       "\n",
       "    .dataframe thead th {\n",
       "        text-align: right;\n",
       "    }\n",
       "</style>\n",
       "<table border=\"1\" class=\"dataframe\">\n",
       "  <thead>\n",
       "    <tr style=\"text-align: right;\">\n",
       "      <th></th>\n",
       "      <th>Unnamed: 0</th>\n",
       "      <th>hosp_yn</th>\n",
       "      <th>Date</th>\n",
       "      <th>Laboratory-confirmed case</th>\n",
       "      <th>Probable Case</th>\n",
       "      <th>0 - 9 Years</th>\n",
       "      <th>10 - 19 Years</th>\n",
       "      <th>20 - 29 Years</th>\n",
       "      <th>30 - 39 Years</th>\n",
       "      <th>40 - 49 Years</th>\n",
       "      <th>...</th>\n",
       "      <th>Aug</th>\n",
       "      <th>Feb</th>\n",
       "      <th>Jan</th>\n",
       "      <th>July</th>\n",
       "      <th>June</th>\n",
       "      <th>March</th>\n",
       "      <th>May</th>\n",
       "      <th>Nov</th>\n",
       "      <th>Oct</th>\n",
       "      <th>Sept</th>\n",
       "    </tr>\n",
       "  </thead>\n",
       "  <tbody>\n",
       "    <tr>\n",
       "      <th>86481</th>\n",
       "      <td>1760672</td>\n",
       "      <td>0</td>\n",
       "      <td>7</td>\n",
       "      <td>1</td>\n",
       "      <td>0</td>\n",
       "      <td>0</td>\n",
       "      <td>0</td>\n",
       "      <td>0</td>\n",
       "      <td>0</td>\n",
       "      <td>1</td>\n",
       "      <td>...</td>\n",
       "      <td>0</td>\n",
       "      <td>0</td>\n",
       "      <td>0</td>\n",
       "      <td>0</td>\n",
       "      <td>0</td>\n",
       "      <td>0</td>\n",
       "      <td>0</td>\n",
       "      <td>0</td>\n",
       "      <td>0</td>\n",
       "      <td>0</td>\n",
       "    </tr>\n",
       "    <tr>\n",
       "      <th>73244</th>\n",
       "      <td>4192167</td>\n",
       "      <td>0</td>\n",
       "      <td>13</td>\n",
       "      <td>0</td>\n",
       "      <td>1</td>\n",
       "      <td>0</td>\n",
       "      <td>0</td>\n",
       "      <td>0</td>\n",
       "      <td>0</td>\n",
       "      <td>0</td>\n",
       "      <td>...</td>\n",
       "      <td>0</td>\n",
       "      <td>0</td>\n",
       "      <td>0</td>\n",
       "      <td>0</td>\n",
       "      <td>0</td>\n",
       "      <td>0</td>\n",
       "      <td>0</td>\n",
       "      <td>1</td>\n",
       "      <td>0</td>\n",
       "      <td>0</td>\n",
       "    </tr>\n",
       "    <tr>\n",
       "      <th>4414</th>\n",
       "      <td>190700</td>\n",
       "      <td>0</td>\n",
       "      <td>20</td>\n",
       "      <td>1</td>\n",
       "      <td>0</td>\n",
       "      <td>0</td>\n",
       "      <td>0</td>\n",
       "      <td>1</td>\n",
       "      <td>0</td>\n",
       "      <td>0</td>\n",
       "      <td>...</td>\n",
       "      <td>0</td>\n",
       "      <td>0</td>\n",
       "      <td>0</td>\n",
       "      <td>0</td>\n",
       "      <td>0</td>\n",
       "      <td>0</td>\n",
       "      <td>0</td>\n",
       "      <td>0</td>\n",
       "      <td>1</td>\n",
       "      <td>0</td>\n",
       "    </tr>\n",
       "    <tr>\n",
       "      <th>95057</th>\n",
       "      <td>1334184</td>\n",
       "      <td>1</td>\n",
       "      <td>20</td>\n",
       "      <td>1</td>\n",
       "      <td>0</td>\n",
       "      <td>0</td>\n",
       "      <td>0</td>\n",
       "      <td>0</td>\n",
       "      <td>0</td>\n",
       "      <td>1</td>\n",
       "      <td>...</td>\n",
       "      <td>0</td>\n",
       "      <td>0</td>\n",
       "      <td>0</td>\n",
       "      <td>0</td>\n",
       "      <td>0</td>\n",
       "      <td>0</td>\n",
       "      <td>0</td>\n",
       "      <td>0</td>\n",
       "      <td>1</td>\n",
       "      <td>0</td>\n",
       "    </tr>\n",
       "    <tr>\n",
       "      <th>32737</th>\n",
       "      <td>2722583</td>\n",
       "      <td>0</td>\n",
       "      <td>18</td>\n",
       "      <td>1</td>\n",
       "      <td>0</td>\n",
       "      <td>0</td>\n",
       "      <td>1</td>\n",
       "      <td>0</td>\n",
       "      <td>0</td>\n",
       "      <td>0</td>\n",
       "      <td>...</td>\n",
       "      <td>0</td>\n",
       "      <td>0</td>\n",
       "      <td>0</td>\n",
       "      <td>0</td>\n",
       "      <td>0</td>\n",
       "      <td>0</td>\n",
       "      <td>0</td>\n",
       "      <td>0</td>\n",
       "      <td>0</td>\n",
       "      <td>1</td>\n",
       "    </tr>\n",
       "  </tbody>\n",
       "</table>\n",
       "<p>5 rows × 35 columns</p>\n",
       "</div>"
      ],
      "text/plain": [
       "       Unnamed: 0  hosp_yn  Date  Laboratory-confirmed case  Probable Case  \\\n",
       "86481     1760672        0     7                          1              0   \n",
       "73244     4192167        0    13                          0              1   \n",
       "4414       190700        0    20                          1              0   \n",
       "95057     1334184        1    20                          1              0   \n",
       "32737     2722583        0    18                          1              0   \n",
       "\n",
       "       0 - 9 Years  10 - 19 Years  20 - 29 Years  30 - 39 Years  \\\n",
       "86481            0              0              0              0   \n",
       "73244            0              0              0              0   \n",
       "4414             0              0              1              0   \n",
       "95057            0              0              0              0   \n",
       "32737            0              1              0              0   \n",
       "\n",
       "       40 - 49 Years  ...  Aug  Feb  Jan  July  June  March  May  Nov  Oct  \\\n",
       "86481              1  ...    0    0    0     0     0      0    0    0    0   \n",
       "73244              0  ...    0    0    0     0     0      0    0    1    0   \n",
       "4414               0  ...    0    0    0     0     0      0    0    0    1   \n",
       "95057              1  ...    0    0    0     0     0      0    0    0    1   \n",
       "32737              0  ...    0    0    0     0     0      0    0    0    0   \n",
       "\n",
       "       Sept  \n",
       "86481     0  \n",
       "73244     0  \n",
       "4414      0  \n",
       "95057     0  \n",
       "32737     1  \n",
       "\n",
       "[5 rows x 35 columns]"
      ]
     },
     "execution_count": 473,
     "metadata": {},
     "output_type": "execute_result"
    }
   ],
   "source": [
    "from sklearn.model_selection import train_test_split\n",
    "X_train, X_test, y_train, y_test = train_test_split(X, y, train_size=0.05, random_state=100)\n",
    "X_train.head()"
   ]
  },
  {
   "cell_type": "code",
   "execution_count": 474,
   "metadata": {},
   "outputs": [
    {
     "data": {
      "text/plain": [
       "86481    0\n",
       "73244    0\n",
       "4414     0\n",
       "95057    0\n",
       "32737    0\n",
       "Name: death_yn, dtype: int64"
      ]
     },
     "execution_count": 474,
     "metadata": {},
     "output_type": "execute_result"
    }
   ],
   "source": [
    "y_train.head()"
   ]
  },
  {
   "cell_type": "code",
   "execution_count": 475,
   "metadata": {
    "execution": {
     "iopub.execute_input": "2022-01-24T18:14:42.696081Z",
     "iopub.status.busy": "2022-01-24T18:14:42.671119Z",
     "iopub.status.idle": "2022-01-24T18:14:42.87057Z",
     "shell.execute_reply": "2022-01-24T18:14:42.869649Z",
     "shell.execute_reply.started": "2022-01-24T18:14:42.671432Z"
    }
   },
   "outputs": [],
   "source": [
    "from sklearn.ensemble import RandomForestClassifier"
   ]
  },
  {
   "cell_type": "code",
   "execution_count": 476,
   "metadata": {
    "execution": {
     "iopub.execute_input": "2022-01-24T18:39:42.10705Z",
     "iopub.status.busy": "2022-01-24T18:39:42.106873Z",
     "iopub.status.idle": "2022-01-24T18:39:42.110616Z",
     "shell.execute_reply": "2022-01-24T18:39:42.110161Z",
     "shell.execute_reply.started": "2022-01-24T18:39:42.107027Z"
    }
   },
   "outputs": [
    {
     "data": {
      "text/plain": [
       "RandomForestClassifier(max_depth=5, random_state=1)"
      ]
     },
     "execution_count": 476,
     "metadata": {},
     "output_type": "execute_result"
    }
   ],
   "source": [
    "model = RandomForestClassifier(n_estimators=100, max_depth=5, random_state=1)\n",
    "model.fit(X_train, y_train)"
   ]
  },
  {
   "cell_type": "code",
   "execution_count": 477,
   "metadata": {},
   "outputs": [],
   "source": [
    "predictions = model.predict(X_test)"
   ]
  },
  {
   "cell_type": "code",
   "execution_count": 478,
   "metadata": {},
   "outputs": [
    {
     "name": "stdout",
     "output_type": "stream",
     "text": [
      "0.9486450723125093\n"
     ]
    }
   ],
   "source": [
    "score = model.score(X_test, y_test)\n",
    "print(score)"
   ]
  },
  {
   "cell_type": "code",
   "execution_count": 479,
   "metadata": {},
   "outputs": [],
   "source": [
    "from sklearn.metrics import confusion_matrix\n",
    "from sklearn.metrics import precision_score, recall_score, f1_score, accuracy_score\n",
    "conf_matrix = confusion_matrix(y_true=y_test, y_pred=predictions)"
   ]
  },
  {
   "cell_type": "code",
   "execution_count": 480,
   "metadata": {},
   "outputs": [
    {
     "data": {
      "image/png": "[encoded data removed]",
      "text/plain": [
       "<Figure size 360x360 with 1 Axes>"
      ]
     },
     "metadata": {
      "needs_background": "light"
     },
     "output_type": "display_data"
    }
   ],
   "source": [
    "import matplotlib.pyplot as plt\n",
    "\n",
    "fig, ax = plt.subplots(figsize=(5, 5))\n",
    "ax.matshow(conf_matrix, cmap=plt.cm.Oranges, alpha=0.3)\n",
    "for i in range(conf_matrix.shape[0]):\n",
    "    for j in range(conf_matrix.shape[1]):\n",
    "        ax.text(x=j, y=i,s=conf_matrix[i, j], va='center', ha='center', size='xx-large')\n",
    " \n",
    "plt.xlabel('Predictions', fontsize=18)\n",
    "plt.ylabel('Actuals', fontsize=18)\n",
    "plt.title('Confusion Matrix', fontsize=18)\n",
    "plt.show()"
   ]
  },
  {
   "cell_type": "code",
   "execution_count": 481,
   "metadata": {},
   "outputs": [
    {
     "data": {
      "image/png": "[encoded data removed]",
      "text/plain": [
       "<Figure size 432x288 with 1 Axes>"
      ]
     },
     "metadata": {
      "needs_background": "light"
     },
     "output_type": "display_data"
    }
   ],
   "source": [
    "from sklearn.metrics import roc_curve,auc\n",
    "\n",
    "fpr,tpr,_=roc_curve(y_test,predictions)\n",
    "\n",
    "roc_auc=auc(fpr,tpr)\n",
    "\n",
    "# Plot of a ROC curve for a specific class\n",
    "plt.figure()\n",
    "plt.plot(fpr, tpr, label='ROC curve (area = %0.2f)' % roc_auc)\n",
    "plt.plot([0, 1], [0, 1], 'k--')\n",
    "plt.xlim([0.0, 1.0])\n",
    "plt.ylim([0.0, 1.05])\n",
    "plt.xlabel('False Positive Rate')\n",
    "plt.ylabel('True Positive Rate')\n",
    "plt.title('ROC Curve')\n",
    "plt.legend(loc=\"lower right\")\n",
    "plt.show()"
   ]
  },
  {
   "cell_type": "code",
   "execution_count": 482,
   "metadata": {
    "scrolled": true
   },
   "outputs": [
    {
     "name": "stdout",
     "output_type": "stream",
     "text": [
      "Accuracy:  0.9498937677053825\n",
      "Recall:  0.05067567567567568\n",
      "Precision: 0.8823529411764706\n",
      "F1 Score: 0.09584664536741215\n"
     ]
    }
   ],
   "source": [
    "y_train_pred = model.predict(X_train)\n",
    "print(\"Accuracy: \", accuracy_score(y_train, y_train_pred))\n",
    "print(\"Recall: \", recall_score(y_train, y_train_pred))\n",
    "print(\"Precision:\", precision_score(y_train, y_train_pred))\n",
    "print(\"F1 Score:\", f1_score(y_train, y_train_pred))"
   ]
  },
  {
   "cell_type": "code",
   "execution_count": 483,
   "metadata": {
    "execution": {
     "iopub.execute_input": "2022-01-24T18:39:42.508672Z",
     "iopub.status.busy": "2022-01-24T18:39:42.508478Z",
     "iopub.status.idle": "2022-01-24T18:39:51.95561Z",
     "shell.execute_reply": "2022-01-24T18:39:51.954462Z",
     "shell.execute_reply.started": "2022-01-24T18:39:42.508647Z"
    }
   },
   "outputs": [
    {
     "name": "stdout",
     "output_type": "stream",
     "text": [
      "Accuracy:  0.9486450723125093\n",
      "Recall:  0.06301939058171745\n",
      "Precision: 0.7861771058315334\n",
      "F1 Score: 0.11668536624459047\n"
     ]
    }
   ],
   "source": [
    "y_test_pred = model.predict(X_test)\n",
    "print(\"Accuracy: \", accuracy_score(y_test, y_test_pred))\n",
    "print(\"Recall: \", recall_score(y_test, y_test_pred))\n",
    "print(\"Precision:\", precision_score(y_test, y_test_pred))\n",
    "print(\"F1 Score:\", f1_score(y_test, y_test_pred))"
   ]
  },
  {
   "cell_type": "code",
   "execution_count": 484,
   "metadata": {},
   "outputs": [],
   "source": [
    "from sklearn.linear_model import LogisticRegression"
   ]
  },
  {
   "cell_type": "code",
   "execution_count": 485,
   "metadata": {},
   "outputs": [
    {
     "data": {
      "text/plain": [
       "LogisticRegression()"
      ]
     },
     "execution_count": 485,
     "metadata": {},
     "output_type": "execute_result"
    }
   ],
   "source": [
    "logisticRegr = LogisticRegression()\n",
    "logisticRegr.fit(X_train, y_train)"
   ]
  },
  {
   "cell_type": "code",
   "execution_count": 486,
   "metadata": {},
   "outputs": [],
   "source": [
    "predictions = logisticRegr.predict(X_test)"
   ]
  },
  {
   "cell_type": "code",
   "execution_count": 487,
   "metadata": {
    "scrolled": true
   },
   "outputs": [
    {
     "name": "stdout",
     "output_type": "stream",
     "text": [
      "0.9461756373937678\n"
     ]
    }
   ],
   "source": [
    "score = logisticRegr.score(X_test, y_test)\n",
    "print(score)"
   ]
  },
  {
   "cell_type": "code",
   "execution_count": 488,
   "metadata": {},
   "outputs": [],
   "source": [
    "conf_matrix = confusion_matrix(y_true=y_test, y_pred=predictions)"
   ]
  },
  {
   "cell_type": "code",
   "execution_count": 489,
   "metadata": {},
   "outputs": [
    {
     "data": {
      "image/png": "[encoded data removed]",
      "text/plain": [
       "<Figure size 360x360 with 1 Axes>"
      ]
     },
     "metadata": {
      "needs_background": "light"
     },
     "output_type": "display_data"
    }
   ],
   "source": [
    "import matplotlib.pyplot as plt\n",
    "\n",
    "fig, ax = plt.subplots(figsize=(5, 5))\n",
    "ax.matshow(conf_matrix, cmap=plt.cm.Oranges, alpha=0.3)\n",
    "for i in range(conf_matrix.shape[0]):\n",
    "    for j in range(conf_matrix.shape[1]):\n",
    "        ax.text(x=j, y=i,s=conf_matrix[i, j], va='center', ha='center', size='xx-large')\n",
    " \n",
    "plt.xlabel('Predictions', fontsize=18)\n",
    "plt.ylabel('Actuals', fontsize=18)\n",
    "plt.title('Confusion Matrix', fontsize=18)\n",
    "plt.show()"
   ]
  },
  {
   "cell_type": "code",
   "execution_count": 490,
   "metadata": {},
   "outputs": [
    {
     "data": {
      "image/png": "[encoded data removed]",
      "text/plain": [
       "<Figure size 432x288 with 1 Axes>"
      ]
     },
     "metadata": {
      "needs_background": "light"
     },
     "output_type": "display_data"
    }
   ],
   "source": [
    "from sklearn.metrics import roc_curve,auc\n",
    "\n",
    "fpr,tpr,_=roc_curve(y_test,predictions)\n",
    "\n",
    "roc_auc=auc(fpr,tpr)\n",
    "\n",
    "# Plot of a ROC curve for a specific class\n",
    "plt.figure()\n",
    "plt.plot(fpr, tpr, label='ROC curve (area = %0.2f)' % roc_auc)\n",
    "plt.plot([0, 1], [0, 1], 'k--')\n",
    "plt.xlim([0.0, 1.0])\n",
    "plt.ylim([0.0, 1.05])\n",
    "plt.xlabel('False Positive Rate')\n",
    "plt.ylabel('True Positive Rate')\n",
    "plt.title('ROC Curve')\n",
    "plt.legend(loc=\"lower right\")\n",
    "plt.show()"
   ]
  },
  {
   "cell_type": "code",
   "execution_count": 491,
   "metadata": {
    "scrolled": true
   },
   "outputs": [
    {
     "name": "stdout",
     "output_type": "stream",
     "text": [
      "Accuracy:  0.9498937677053825\n",
      "Recall:  0.05067567567567568\n",
      "Precision: 0.8823529411764706\n",
      "F1 Score: 0.09584664536741215\n"
     ]
    }
   ],
   "source": [
    "y_train_pred = model.predict(X_train)\n",
    "print(\"Accuracy: \", accuracy_score(y_train, y_train_pred))\n",
    "print(\"Recall: \", recall_score(y_train, y_train_pred))\n",
    "print(\"Precision:\", precision_score(y_train, y_train_pred))\n",
    "print(\"F1 Score:\", f1_score(y_train, y_train_pred))"
   ]
  },
  {
   "cell_type": "code",
   "execution_count": 492,
   "metadata": {
    "execution": {
     "iopub.execute_input": "2022-01-24T18:39:42.508672Z",
     "iopub.status.busy": "2022-01-24T18:39:42.508478Z",
     "iopub.status.idle": "2022-01-24T18:39:51.95561Z",
     "shell.execute_reply": "2022-01-24T18:39:51.954462Z",
     "shell.execute_reply.started": "2022-01-24T18:39:42.508647Z"
    }
   },
   "outputs": [
    {
     "name": "stdout",
     "output_type": "stream",
     "text": [
      "Accuracy:  0.9486450723125093\n",
      "Recall:  0.06301939058171745\n",
      "Precision: 0.7861771058315334\n",
      "F1 Score: 0.11668536624459047\n"
     ]
    }
   ],
   "source": [
    "y_test_pred = model.predict(X_test)\n",
    "print(\"Accuracy: \", accuracy_score(y_test, y_test_pred))\n",
    "print(\"Recall: \", recall_score(y_test, y_test_pred))\n",
    "print(\"Precision:\", precision_score(y_test, y_test_pred))\n",
    "print(\"F1 Score:\", f1_score(y_test, y_test_pred))"
   ]
  },
  {
   "cell_type": "markdown",
   "metadata": {
    "execution": {
     "iopub.execute_input": "2022-01-24T18:39:52.080484Z",
     "iopub.status.busy": "2022-01-24T18:39:52.08016Z",
     "iopub.status.idle": "2022-01-24T18:39:52.093231Z",
     "shell.execute_reply": "2022-01-24T18:39:52.092707Z",
     "shell.execute_reply.started": "2022-01-24T18:39:52.080456Z"
    }
   },
   "source": [
    "# END FOR NOW #"
   ]
  }
 ],
 "metadata": {
  "kernelspec": {
   "display_name": "Python 3 (ipykernel)",
   "language": "python",
   "name": "python3"
  },
  "language_info": {
   "codemirror_mode": {
    "name": "ipython",
    "version": 3
   },
   "file_extension": ".py",
   "mimetype": "text/x-python",
   "name": "python",
   "nbconvert_exporter": "python",
   "pygments_lexer": "ipython3",
   "version": "3.9.12"
  }
 },
 "nbformat": 4,
 "nbformat_minor": 4
}
