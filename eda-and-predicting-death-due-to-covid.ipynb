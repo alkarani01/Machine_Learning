{
 "cells": [
  {
   "cell_type": "code",
   "execution_count": null,
   "metadata": {
    "execution": {
     "iopub.execute_input": "2022-01-24T18:08:18.406283Z",
     "iopub.status.busy": "2022-01-24T18:08:18.405906Z",
     "iopub.status.idle": "2022-01-24T18:08:19.582707Z",
     "shell.execute_reply": "2022-01-24T18:08:19.58153Z",
     "shell.execute_reply.started": "2022-01-24T18:08:18.406169Z"
    }
   },
   "outputs": [],
   "source": [
    "import pandas as pd\n",
    "import numpy as np\n",
    "import matplotlib.pyplot as plt\n",
    "import warnings\n",
    "warnings.simplefilter(\"ignore\")\n",
    "import seaborn as sns"
   ]
  },
  {
   "cell_type": "code",
   "execution_count": 54,
   "metadata": {},
   "outputs": [],
   "source": [
    "#Import csv file using panda dataframe function"
   ]
  },
  {
   "cell_type": "code",
   "execution_count": 55,
   "metadata": {
    "execution": {
     "iopub.execute_input": "2022-01-24T18:08:19.597483Z",
     "iopub.status.busy": "2022-01-24T18:08:19.590404Z",
     "iopub.status.idle": "2022-01-24T18:08:58.810284Z",
     "shell.execute_reply": "2022-01-24T18:08:58.806822Z",
     "shell.execute_reply.started": "2022-01-24T18:08:19.597412Z"
    }
   },
   "outputs": [
    {
     "data": {
      "text/html": [
       "<div>\n",
       "<style scoped>\n",
       "    .dataframe tbody tr th:only-of-type {\n",
       "        vertical-align: middle;\n",
       "    }\n",
       "\n",
       "    .dataframe tbody tr th {\n",
       "        vertical-align: top;\n",
       "    }\n",
       "\n",
       "    .dataframe thead th {\n",
       "        text-align: right;\n",
       "    }\n",
       "</style>\n",
       "<table border=\"1\" class=\"dataframe\">\n",
       "  <thead>\n",
       "    <tr style=\"text-align: right;\">\n",
       "      <th></th>\n",
       "      <th>cdc_report_dt</th>\n",
       "      <th>pos_spec_dt</th>\n",
       "      <th>onset_dt</th>\n",
       "      <th>current_status</th>\n",
       "      <th>sex</th>\n",
       "      <th>age_group</th>\n",
       "      <th>Race and ethnicity (combined)</th>\n",
       "      <th>hosp_yn</th>\n",
       "      <th>icu_yn</th>\n",
       "      <th>death_yn</th>\n",
       "      <th>medcond_yn</th>\n",
       "    </tr>\n",
       "  </thead>\n",
       "  <tbody>\n",
       "    <tr>\n",
       "      <th>0</th>\n",
       "      <td>2020/11/10</td>\n",
       "      <td>2020/11/10</td>\n",
       "      <td>NaN</td>\n",
       "      <td>Laboratory-confirmed case</td>\n",
       "      <td>Male</td>\n",
       "      <td>10 - 19 Years</td>\n",
       "      <td>Black, Non-Hispanic</td>\n",
       "      <td>No</td>\n",
       "      <td>Unknown</td>\n",
       "      <td>No</td>\n",
       "      <td>No</td>\n",
       "    </tr>\n",
       "    <tr>\n",
       "      <th>1</th>\n",
       "      <td>2020/11/14</td>\n",
       "      <td>2020/11/10</td>\n",
       "      <td>2020/11/10</td>\n",
       "      <td>Laboratory-confirmed case</td>\n",
       "      <td>Male</td>\n",
       "      <td>10 - 19 Years</td>\n",
       "      <td>Black, Non-Hispanic</td>\n",
       "      <td>No</td>\n",
       "      <td>No</td>\n",
       "      <td>No</td>\n",
       "      <td>No</td>\n",
       "    </tr>\n",
       "    <tr>\n",
       "      <th>2</th>\n",
       "      <td>2020/11/19</td>\n",
       "      <td>2020/11/10</td>\n",
       "      <td>2020/11/09</td>\n",
       "      <td>Laboratory-confirmed case</td>\n",
       "      <td>Male</td>\n",
       "      <td>10 - 19 Years</td>\n",
       "      <td>Black, Non-Hispanic</td>\n",
       "      <td>No</td>\n",
       "      <td>No</td>\n",
       "      <td>No</td>\n",
       "      <td>No</td>\n",
       "    </tr>\n",
       "    <tr>\n",
       "      <th>3</th>\n",
       "      <td>2020/11/14</td>\n",
       "      <td>2020/11/10</td>\n",
       "      <td>NaN</td>\n",
       "      <td>Laboratory-confirmed case</td>\n",
       "      <td>Male</td>\n",
       "      <td>10 - 19 Years</td>\n",
       "      <td>Black, Non-Hispanic</td>\n",
       "      <td>Missing</td>\n",
       "      <td>Missing</td>\n",
       "      <td>No</td>\n",
       "      <td>Missing</td>\n",
       "    </tr>\n",
       "    <tr>\n",
       "      <th>4</th>\n",
       "      <td>2020/11/13</td>\n",
       "      <td>2020/11/10</td>\n",
       "      <td>2020/11/10</td>\n",
       "      <td>Laboratory-confirmed case</td>\n",
       "      <td>Male</td>\n",
       "      <td>10 - 19 Years</td>\n",
       "      <td>Black, Non-Hispanic</td>\n",
       "      <td>No</td>\n",
       "      <td>No</td>\n",
       "      <td>No</td>\n",
       "      <td>Yes</td>\n",
       "    </tr>\n",
       "  </tbody>\n",
       "</table>\n",
       "</div>"
      ],
      "text/plain": [
       "  cdc_report_dt pos_spec_dt    onset_dt             current_status   sex  \\\n",
       "0    2020/11/10  2020/11/10         NaN  Laboratory-confirmed case  Male   \n",
       "1    2020/11/14  2020/11/10  2020/11/10  Laboratory-confirmed case  Male   \n",
       "2    2020/11/19  2020/11/10  2020/11/09  Laboratory-confirmed case  Male   \n",
       "3    2020/11/14  2020/11/10         NaN  Laboratory-confirmed case  Male   \n",
       "4    2020/11/13  2020/11/10  2020/11/10  Laboratory-confirmed case  Male   \n",
       "\n",
       "       age_group Race and ethnicity (combined)  hosp_yn   icu_yn death_yn  \\\n",
       "0  10 - 19 Years           Black, Non-Hispanic       No  Unknown       No   \n",
       "1  10 - 19 Years           Black, Non-Hispanic       No       No       No   \n",
       "2  10 - 19 Years           Black, Non-Hispanic       No       No       No   \n",
       "3  10 - 19 Years           Black, Non-Hispanic  Missing  Missing       No   \n",
       "4  10 - 19 Years           Black, Non-Hispanic       No       No       No   \n",
       "\n",
       "  medcond_yn  \n",
       "0         No  \n",
       "1         No  \n",
       "2         No  \n",
       "3    Missing  \n",
       "4        Yes  "
      ]
     },
     "execution_count": 55,
     "metadata": {},
     "output_type": "execute_result"
    }
   ],
   "source": [
    "Covid = pd.read_csv('COVID-19_Case_Surveillance_Public_Use_Data.csv')\n",
    "Covid.head()"
   ]
  },
  {
   "cell_type": "code",
   "execution_count": null,
   "metadata": {
    "execution": {
     "iopub.execute_input": "2022-01-24T18:08:58.821575Z",
     "iopub.status.busy": "2022-01-24T18:08:58.820462Z",
     "iopub.status.idle": "2022-01-24T18:08:58.839791Z",
     "shell.execute_reply": "2022-01-24T18:08:58.830343Z",
     "shell.execute_reply.started": "2022-01-24T18:08:58.821539Z"
    }
   },
   "outputs": [],
   "source": [
    "#Data inspection and cleaning "
   ]
  },
  {
   "cell_type": "code",
   "execution_count": null,
   "metadata": {},
   "outputs": [],
   "source": [
    "#Check and count null values or missing information"
   ]
  },
  {
   "cell_type": "code",
   "execution_count": 56,
   "metadata": {
    "execution": {
     "iopub.execute_input": "2022-01-24T18:08:58.855608Z",
     "iopub.status.busy": "2022-01-24T18:08:58.854553Z",
     "iopub.status.idle": "2022-01-24T18:09:06.173637Z",
     "shell.execute_reply": "2022-01-24T18:09:06.172686Z",
     "shell.execute_reply.started": "2022-01-24T18:08:58.855569Z"
    }
   },
   "outputs": [
    {
     "name": "stdout",
     "output_type": "stream",
     "text": [
      "<class 'pandas.core.frame.DataFrame'>\n",
      "RangeIndex: 8405079 entries, 0 to 8405078\n",
      "Data columns (total 11 columns):\n",
      " #   Column                         Non-Null Count    Dtype \n",
      "---  ------                         --------------    ----- \n",
      " 0   cdc_report_dt                  8405079 non-null  object\n",
      " 1   pos_spec_dt                    2870789 non-null  object\n",
      " 2   onset_dt                       4395957 non-null  object\n",
      " 3   current_status                 8405079 non-null  object\n",
      " 4   sex                            8405061 non-null  object\n",
      " 5   age_group                      8404990 non-null  object\n",
      " 6   Race and ethnicity (combined)  8405072 non-null  object\n",
      " 7   hosp_yn                        8405079 non-null  object\n",
      " 8   icu_yn                         8405079 non-null  object\n",
      " 9   death_yn                       8405079 non-null  object\n",
      " 10  medcond_yn                     8405079 non-null  object\n",
      "dtypes: object(11)\n",
      "memory usage: 705.4+ MB\n"
     ]
    }
   ],
   "source": [
    "Covid.info(null_counts=True)"
   ]
  },
  {
   "cell_type": "code",
   "execution_count": 57,
   "metadata": {},
   "outputs": [],
   "source": [
    "#Count the number of null values"
   ]
  },
  {
   "cell_type": "code",
   "execution_count": 58,
   "metadata": {
    "execution": {
     "iopub.execute_input": "2022-01-24T18:09:06.191114Z",
     "iopub.status.busy": "2022-01-24T18:09:06.190151Z",
     "iopub.status.idle": "2022-01-24T18:09:14.553611Z",
     "shell.execute_reply": "2022-01-24T18:09:14.552465Z",
     "shell.execute_reply.started": "2022-01-24T18:09:06.191051Z"
    }
   },
   "outputs": [
    {
     "data": {
      "text/plain": [
       "cdc_report_dt                     0.000000\n",
       "pos_spec_dt                      65.844592\n",
       "onset_dt                         47.698802\n",
       "current_status                    0.000000\n",
       "sex                               0.000214\n",
       "age_group                         0.001059\n",
       "Race and ethnicity (combined)     0.000083\n",
       "hosp_yn                           0.000000\n",
       "icu_yn                            0.000000\n",
       "death_yn                          0.000000\n",
       "medcond_yn                        0.000000\n",
       "dtype: float64"
      ]
     },
     "execution_count": 58,
     "metadata": {},
     "output_type": "execute_result"
    }
   ],
   "source": [
    "round(100*(Covid.isnull().sum()/len(Covid.index)), 10)"
   ]
  },
  {
   "cell_type": "code",
   "execution_count": 59,
   "metadata": {},
   "outputs": [],
   "source": [
    "#Drop the columns with too many null values"
   ]
  },
  {
   "cell_type": "code",
   "execution_count": 60,
   "metadata": {
    "execution": {
     "iopub.execute_input": "2022-01-24T18:09:14.561328Z",
     "iopub.status.busy": "2022-01-24T18:09:14.560837Z",
     "iopub.status.idle": "2022-01-24T18:09:15.286721Z",
     "shell.execute_reply": "2022-01-24T18:09:15.286027Z",
     "shell.execute_reply.started": "2022-01-24T18:09:14.561292Z"
    }
   },
   "outputs": [
    {
     "name": "stdout",
     "output_type": "stream",
     "text": [
      "<class 'pandas.core.frame.DataFrame'>\n",
      "RangeIndex: 8405079 entries, 0 to 8405078\n",
      "Data columns (total 9 columns):\n",
      " #   Column                         Dtype \n",
      "---  ------                         ----- \n",
      " 0   cdc_report_dt                  object\n",
      " 1   current_status                 object\n",
      " 2   sex                            object\n",
      " 3   age_group                      object\n",
      " 4   Race and ethnicity (combined)  object\n",
      " 5   hosp_yn                        object\n",
      " 6   icu_yn                         object\n",
      " 7   death_yn                       object\n",
      " 8   medcond_yn                     object\n",
      "dtypes: object(9)\n",
      "memory usage: 577.1+ MB\n"
     ]
    }
   ],
   "source": [
    "Covid = Covid.drop(['pos_spec_dt','onset_dt'],axis=1)\n",
    "Covid.info()"
   ]
  },
  {
   "cell_type": "code",
   "execution_count": 61,
   "metadata": {
    "execution": {
     "iopub.execute_input": "2022-01-24T18:09:15.303093Z",
     "iopub.status.busy": "2022-01-24T18:09:15.302631Z",
     "iopub.status.idle": "2022-01-24T18:09:22.456131Z",
     "shell.execute_reply": "2022-01-24T18:09:22.454715Z",
     "shell.execute_reply.started": "2022-01-24T18:09:15.30306Z"
    }
   },
   "outputs": [
    {
     "data": {
      "text/plain": [
       "cdc_report_dt                    0.0\n",
       "current_status                   0.0\n",
       "sex                              0.0\n",
       "age_group                        0.0\n",
       "Race and ethnicity (combined)    0.0\n",
       "hosp_yn                          0.0\n",
       "icu_yn                           0.0\n",
       "death_yn                         0.0\n",
       "medcond_yn                       0.0\n",
       "dtype: float64"
      ]
     },
     "execution_count": 61,
     "metadata": {},
     "output_type": "execute_result"
    }
   ],
   "source": [
    "round(100*(Covid.isnull().sum()/len(Covid.index)), 2)"
   ]
  },
  {
   "cell_type": "code",
   "execution_count": 62,
   "metadata": {
    "execution": {
     "iopub.execute_input": "2022-01-24T18:09:22.459823Z",
     "iopub.status.busy": "2022-01-24T18:09:22.459605Z",
     "iopub.status.idle": "2022-01-24T18:09:22.547216Z",
     "shell.execute_reply": "2022-01-24T18:09:22.543295Z",
     "shell.execute_reply.started": "2022-01-24T18:09:22.459788Z"
    }
   },
   "outputs": [
    {
     "data": {
      "text/html": [
       "<div>\n",
       "<style scoped>\n",
       "    .dataframe tbody tr th:only-of-type {\n",
       "        vertical-align: middle;\n",
       "    }\n",
       "\n",
       "    .dataframe tbody tr th {\n",
       "        vertical-align: top;\n",
       "    }\n",
       "\n",
       "    .dataframe thead th {\n",
       "        text-align: right;\n",
       "    }\n",
       "</style>\n",
       "<table border=\"1\" class=\"dataframe\">\n",
       "  <thead>\n",
       "    <tr style=\"text-align: right;\">\n",
       "      <th></th>\n",
       "      <th>cdc_report_dt</th>\n",
       "      <th>current_status</th>\n",
       "      <th>sex</th>\n",
       "      <th>age_group</th>\n",
       "      <th>Race and ethnicity (combined)</th>\n",
       "      <th>hosp_yn</th>\n",
       "      <th>icu_yn</th>\n",
       "      <th>death_yn</th>\n",
       "      <th>medcond_yn</th>\n",
       "    </tr>\n",
       "  </thead>\n",
       "  <tbody>\n",
       "    <tr>\n",
       "      <th>0</th>\n",
       "      <td>2020/11/10</td>\n",
       "      <td>Laboratory-confirmed case</td>\n",
       "      <td>Male</td>\n",
       "      <td>10 - 19 Years</td>\n",
       "      <td>Black, Non-Hispanic</td>\n",
       "      <td>No</td>\n",
       "      <td>Unknown</td>\n",
       "      <td>No</td>\n",
       "      <td>No</td>\n",
       "    </tr>\n",
       "    <tr>\n",
       "      <th>1</th>\n",
       "      <td>2020/11/14</td>\n",
       "      <td>Laboratory-confirmed case</td>\n",
       "      <td>Male</td>\n",
       "      <td>10 - 19 Years</td>\n",
       "      <td>Black, Non-Hispanic</td>\n",
       "      <td>No</td>\n",
       "      <td>No</td>\n",
       "      <td>No</td>\n",
       "      <td>No</td>\n",
       "    </tr>\n",
       "    <tr>\n",
       "      <th>2</th>\n",
       "      <td>2020/11/19</td>\n",
       "      <td>Laboratory-confirmed case</td>\n",
       "      <td>Male</td>\n",
       "      <td>10 - 19 Years</td>\n",
       "      <td>Black, Non-Hispanic</td>\n",
       "      <td>No</td>\n",
       "      <td>No</td>\n",
       "      <td>No</td>\n",
       "      <td>No</td>\n",
       "    </tr>\n",
       "    <tr>\n",
       "      <th>3</th>\n",
       "      <td>2020/11/14</td>\n",
       "      <td>Laboratory-confirmed case</td>\n",
       "      <td>Male</td>\n",
       "      <td>10 - 19 Years</td>\n",
       "      <td>Black, Non-Hispanic</td>\n",
       "      <td>Missing</td>\n",
       "      <td>Missing</td>\n",
       "      <td>No</td>\n",
       "      <td>Missing</td>\n",
       "    </tr>\n",
       "    <tr>\n",
       "      <th>4</th>\n",
       "      <td>2020/11/13</td>\n",
       "      <td>Laboratory-confirmed case</td>\n",
       "      <td>Male</td>\n",
       "      <td>10 - 19 Years</td>\n",
       "      <td>Black, Non-Hispanic</td>\n",
       "      <td>No</td>\n",
       "      <td>No</td>\n",
       "      <td>No</td>\n",
       "      <td>Yes</td>\n",
       "    </tr>\n",
       "  </tbody>\n",
       "</table>\n",
       "</div>"
      ],
      "text/plain": [
       "  cdc_report_dt             current_status   sex      age_group  \\\n",
       "0    2020/11/10  Laboratory-confirmed case  Male  10 - 19 Years   \n",
       "1    2020/11/14  Laboratory-confirmed case  Male  10 - 19 Years   \n",
       "2    2020/11/19  Laboratory-confirmed case  Male  10 - 19 Years   \n",
       "3    2020/11/14  Laboratory-confirmed case  Male  10 - 19 Years   \n",
       "4    2020/11/13  Laboratory-confirmed case  Male  10 - 19 Years   \n",
       "\n",
       "  Race and ethnicity (combined)  hosp_yn   icu_yn death_yn medcond_yn  \n",
       "0           Black, Non-Hispanic       No  Unknown       No         No  \n",
       "1           Black, Non-Hispanic       No       No       No         No  \n",
       "2           Black, Non-Hispanic       No       No       No         No  \n",
       "3           Black, Non-Hispanic  Missing  Missing       No    Missing  \n",
       "4           Black, Non-Hispanic       No       No       No        Yes  "
      ]
     },
     "execution_count": 62,
     "metadata": {},
     "output_type": "execute_result"
    }
   ],
   "source": [
    "Covid.head()"
   ]
  },
  {
   "cell_type": "code",
   "execution_count": 63,
   "metadata": {
    "execution": {
     "iopub.execute_input": "2022-01-24T18:09:22.55923Z",
     "iopub.status.busy": "2022-01-24T18:09:22.558925Z",
     "iopub.status.idle": "2022-01-24T18:09:23.893396Z",
     "shell.execute_reply": "2022-01-24T18:09:23.889443Z",
     "shell.execute_reply.started": "2022-01-24T18:09:22.559196Z"
    }
   },
   "outputs": [
    {
     "data": {
      "text/plain": [
       "Laboratory-confirmed case    7910118\n",
       "Probable Case                 494961\n",
       "Name: current_status, dtype: int64"
      ]
     },
     "execution_count": 63,
     "metadata": {},
     "output_type": "execute_result"
    }
   ],
   "source": [
    "Covid['current_status'].value_counts()"
   ]
  },
  {
   "cell_type": "code",
   "execution_count": null,
   "metadata": {},
   "outputs": [],
   "source": []
  },
  {
   "cell_type": "code",
   "execution_count": 64,
   "metadata": {
    "execution": {
     "iopub.execute_input": "2022-01-24T18:09:23.897359Z",
     "iopub.status.busy": "2022-01-24T18:09:23.897138Z",
     "iopub.status.idle": "2022-01-24T18:09:26.819806Z",
     "shell.execute_reply": "2022-01-24T18:09:26.819056Z",
     "shell.execute_reply.started": "2022-01-24T18:09:23.897328Z"
    }
   },
   "outputs": [],
   "source": [
    "Covid['sex'] = Covid['sex'].apply(lambda x: 'Unknown' if x == 'Missing' else x)"
   ]
  },
  {
   "cell_type": "code",
   "execution_count": 65,
   "metadata": {
    "execution": {
     "iopub.execute_input": "2022-01-24T18:09:26.833911Z",
     "iopub.status.busy": "2022-01-24T18:09:26.831314Z",
     "iopub.status.idle": "2022-01-24T18:09:27.928156Z",
     "shell.execute_reply": "2022-01-24T18:09:27.926475Z",
     "shell.execute_reply.started": "2022-01-24T18:09:26.833836Z"
    }
   },
   "outputs": [
    {
     "data": {
      "text/plain": [
       "Female     4340898\n",
       "Male       3970591\n",
       "Unknown      93365\n",
       "Other          207\n",
       "Name: sex, dtype: int64"
      ]
     },
     "execution_count": 65,
     "metadata": {},
     "output_type": "execute_result"
    }
   ],
   "source": [
    "Covid['sex'].value_counts()"
   ]
  },
  {
   "cell_type": "code",
   "execution_count": 66,
   "metadata": {
    "execution": {
     "iopub.execute_input": "2022-01-24T18:09:27.934379Z",
     "iopub.status.busy": "2022-01-24T18:09:27.933573Z",
     "iopub.status.idle": "2022-01-24T18:09:30.559838Z",
     "shell.execute_reply": "2022-01-24T18:09:30.559176Z",
     "shell.execute_reply.started": "2022-01-24T18:09:27.93434Z"
    }
   },
   "outputs": [],
   "source": [
    "Covid['Race and ethnicity (combined)'] = Covid['Race and ethnicity (combined)'].apply(lambda x: 'Unknown' if x == 'Missing' else x)"
   ]
  },
  {
   "cell_type": "code",
   "execution_count": 67,
   "metadata": {
    "execution": {
     "iopub.execute_input": "2022-01-24T18:09:30.581167Z",
     "iopub.status.busy": "2022-01-24T18:09:30.580269Z",
     "iopub.status.idle": "2022-01-24T18:09:31.777206Z",
     "shell.execute_reply": "2022-01-24T18:09:31.776564Z",
     "shell.execute_reply.started": "2022-01-24T18:09:30.581125Z"
    }
   },
   "outputs": [
    {
     "data": {
      "text/plain": [
       "Unknown                                                 3382695\n",
       "White, Non-Hispanic                                     2599410\n",
       "Hispanic/Latino                                         1195739\n",
       "Black, Non-Hispanic                                      736584\n",
       "Multiple/Other, Non-Hispanic                             270509\n",
       "Asian, Non-Hispanic                                      143080\n",
       "American Indian/Alaska Native, Non-Hispanic               59842\n",
       "Native Hawaiian/Other Pacific Islander, Non-Hispanic      17213\n",
       "Name: Race and ethnicity (combined), dtype: int64"
      ]
     },
     "execution_count": 67,
     "metadata": {},
     "output_type": "execute_result"
    }
   ],
   "source": [
    "Covid['Race and ethnicity (combined)'].value_counts()"
   ]
  },
  {
   "cell_type": "code",
   "execution_count": 68,
   "metadata": {
    "execution": {
     "iopub.execute_input": "2022-01-24T18:09:31.813151Z",
     "iopub.status.busy": "2022-01-24T18:09:31.81266Z",
     "iopub.status.idle": "2022-01-24T18:09:34.641625Z",
     "shell.execute_reply": "2022-01-24T18:09:34.637937Z",
     "shell.execute_reply.started": "2022-01-24T18:09:31.813121Z"
    }
   },
   "outputs": [],
   "source": [
    "Covid['hosp_yn'] = Covid['hosp_yn'].apply(lambda x: 'Unknown' if x == 'Missing' else x)"
   ]
  },
  {
   "cell_type": "code",
   "execution_count": 69,
   "metadata": {
    "execution": {
     "iopub.execute_input": "2022-01-24T18:09:34.652918Z",
     "iopub.status.busy": "2022-01-24T18:09:34.652695Z",
     "iopub.status.idle": "2022-01-24T18:09:35.786009Z",
     "shell.execute_reply": "2022-01-24T18:09:35.785128Z",
     "shell.execute_reply.started": "2022-01-24T18:09:34.652886Z"
    }
   },
   "outputs": [
    {
     "data": {
      "text/plain": [
       "Unknown    4363752\n",
       "No         3502556\n",
       "Yes         538771\n",
       "Name: hosp_yn, dtype: int64"
      ]
     },
     "execution_count": 69,
     "metadata": {},
     "output_type": "execute_result"
    }
   ],
   "source": [
    "Covid.hosp_yn.value_counts()"
   ]
  },
  {
   "cell_type": "code",
   "execution_count": 70,
   "metadata": {
    "execution": {
     "iopub.execute_input": "2022-01-24T18:09:35.799757Z",
     "iopub.status.busy": "2022-01-24T18:09:35.799479Z",
     "iopub.status.idle": "2022-01-24T18:09:38.557546Z",
     "shell.execute_reply": "2022-01-24T18:09:38.556676Z",
     "shell.execute_reply.started": "2022-01-24T18:09:35.79972Z"
    }
   },
   "outputs": [],
   "source": [
    "Covid['icu_yn'] = Covid['icu_yn'].apply(lambda x: 'Unknown' if x == 'Missing' else x)"
   ]
  },
  {
   "cell_type": "code",
   "execution_count": 71,
   "metadata": {
    "execution": {
     "iopub.execute_input": "2022-01-24T18:09:38.56549Z",
     "iopub.status.busy": "2022-01-24T18:09:38.56517Z",
     "iopub.status.idle": "2022-01-24T18:09:39.791219Z",
     "shell.execute_reply": "2022-01-24T18:09:39.790564Z",
     "shell.execute_reply.started": "2022-01-24T18:09:38.565453Z"
    }
   },
   "outputs": [
    {
     "data": {
      "text/plain": [
       "Unknown    7464517\n",
       "No          879671\n",
       "Yes          60891\n",
       "Name: icu_yn, dtype: int64"
      ]
     },
     "execution_count": 71,
     "metadata": {},
     "output_type": "execute_result"
    }
   ],
   "source": [
    "Covid.icu_yn.value_counts()"
   ]
  },
  {
   "cell_type": "code",
   "execution_count": 72,
   "metadata": {
    "execution": {
     "iopub.execute_input": "2022-01-24T18:09:39.79661Z",
     "iopub.status.busy": "2022-01-24T18:09:39.795132Z",
     "iopub.status.idle": "2022-01-24T18:09:42.884569Z",
     "shell.execute_reply": "2022-01-24T18:09:42.883839Z",
     "shell.execute_reply.started": "2022-01-24T18:09:39.79657Z"
    }
   },
   "outputs": [],
   "source": [
    "Covid['death_yn'] = Covid['death_yn'].apply(lambda x: 'Unknown' if x == 'Missing' else x)"
   ]
  },
  {
   "cell_type": "code",
   "execution_count": 73,
   "metadata": {
    "execution": {
     "iopub.execute_input": "2022-01-24T18:09:42.908672Z",
     "iopub.status.busy": "2022-01-24T18:09:42.906408Z",
     "iopub.status.idle": "2022-01-24T18:09:44.079018Z",
     "shell.execute_reply": "2022-01-24T18:09:44.078224Z",
     "shell.execute_reply.started": "2022-01-24T18:09:42.908631Z"
    }
   },
   "outputs": [
    {
     "data": {
      "text/plain": [
       "Unknown    4530689\n",
       "No         3690813\n",
       "Yes         183577\n",
       "Name: death_yn, dtype: int64"
      ]
     },
     "execution_count": 73,
     "metadata": {},
     "output_type": "execute_result"
    }
   ],
   "source": [
    "Covid.death_yn.value_counts()"
   ]
  },
  {
   "cell_type": "code",
   "execution_count": 74,
   "metadata": {
    "execution": {
     "iopub.execute_input": "2022-01-24T18:09:44.090219Z",
     "iopub.status.busy": "2022-01-24T18:09:44.085627Z",
     "iopub.status.idle": "2022-01-24T18:09:47.12839Z",
     "shell.execute_reply": "2022-01-24T18:09:47.127543Z",
     "shell.execute_reply.started": "2022-01-24T18:09:44.090157Z"
    }
   },
   "outputs": [],
   "source": [
    "Covid['medcond_yn'] = Covid['medcond_yn'].apply(lambda x: 'Unknown' if x == 'Missing' else x)"
   ]
  },
  {
   "cell_type": "code",
   "execution_count": 75,
   "metadata": {
    "execution": {
     "iopub.execute_input": "2022-01-24T18:09:47.139746Z",
     "iopub.status.busy": "2022-01-24T18:09:47.135136Z",
     "iopub.status.idle": "2022-01-24T18:09:48.307123Z",
     "shell.execute_reply": "2022-01-24T18:09:48.306536Z",
     "shell.execute_reply.started": "2022-01-24T18:09:47.139677Z"
    }
   },
   "outputs": [
    {
     "data": {
      "text/plain": [
       "Unknown    6901408\n",
       "Yes         785255\n",
       "No          718416\n",
       "Name: medcond_yn, dtype: int64"
      ]
     },
     "execution_count": 75,
     "metadata": {},
     "output_type": "execute_result"
    }
   ],
   "source": [
    "Covid.medcond_yn.value_counts()"
   ]
  },
  {
   "cell_type": "code",
   "execution_count": 76,
   "metadata": {
    "execution": {
     "iopub.execute_input": "2022-01-24T18:09:48.318011Z",
     "iopub.status.busy": "2022-01-24T18:09:48.313642Z",
     "iopub.status.idle": "2022-01-24T18:09:48.32293Z",
     "shell.execute_reply": "2022-01-24T18:09:48.322322Z",
     "shell.execute_reply.started": "2022-01-24T18:09:48.317955Z"
    }
   },
   "outputs": [],
   "source": [
    "#A large percentage of unknown values in most of the categorical columns. However not dealing with them for now. "
   ]
  },
  {
   "cell_type": "code",
   "execution_count": 77,
   "metadata": {
    "execution": {
     "iopub.execute_input": "2022-01-24T18:09:48.327098Z",
     "iopub.status.busy": "2022-01-24T18:09:48.324771Z",
     "iopub.status.idle": "2022-01-24T18:09:48.340984Z",
     "shell.execute_reply": "2022-01-24T18:09:48.340288Z",
     "shell.execute_reply.started": "2022-01-24T18:09:48.327051Z"
    }
   },
   "outputs": [
    {
     "data": {
      "text/plain": [
       "0    2020/11/10\n",
       "1    2020/11/14\n",
       "2    2020/11/19\n",
       "3    2020/11/14\n",
       "4    2020/11/13\n",
       "Name: cdc_report_dt, dtype: object"
      ]
     },
     "execution_count": 77,
     "metadata": {},
     "output_type": "execute_result"
    }
   ],
   "source": [
    "Covid.cdc_report_dt.head()"
   ]
  },
  {
   "cell_type": "code",
   "execution_count": 78,
   "metadata": {
    "execution": {
     "iopub.execute_input": "2022-01-24T18:09:48.34335Z",
     "iopub.status.busy": "2022-01-24T18:09:48.342609Z",
     "iopub.status.idle": "2022-01-24T18:10:26.110525Z",
     "shell.execute_reply": "2022-01-24T18:10:26.109716Z",
     "shell.execute_reply.started": "2022-01-24T18:09:48.343309Z"
    }
   },
   "outputs": [],
   "source": [
    "Covid['Year'] = Covid.cdc_report_dt.apply(lambda x: int(x.split('/')[0]))\n",
    "Covid['Month'] = Covid.cdc_report_dt.apply(lambda x: int(x.split('/')[1]))\n",
    "Covid['Date'] = Covid.cdc_report_dt.apply(lambda x: int(x.split('/')[2]))"
   ]
  },
  {
   "cell_type": "code",
   "execution_count": 79,
   "metadata": {
    "execution": {
     "iopub.execute_input": "2022-01-24T18:10:26.111691Z",
     "iopub.status.busy": "2022-01-24T18:10:26.111484Z",
     "iopub.status.idle": "2022-01-24T18:10:27.528554Z",
     "shell.execute_reply": "2022-01-24T18:10:27.527623Z",
     "shell.execute_reply.started": "2022-01-24T18:10:26.11166Z"
    }
   },
   "outputs": [],
   "source": [
    "Covid = Covid.drop('cdc_report_dt',axis=1)"
   ]
  },
  {
   "cell_type": "code",
   "execution_count": 80,
   "metadata": {
    "execution": {
     "iopub.execute_input": "2022-01-24T18:10:27.529847Z",
     "iopub.status.busy": "2022-01-24T18:10:27.529605Z",
     "iopub.status.idle": "2022-01-24T18:10:27.569706Z",
     "shell.execute_reply": "2022-01-24T18:10:27.558935Z",
     "shell.execute_reply.started": "2022-01-24T18:10:27.529815Z"
    }
   },
   "outputs": [
    {
     "data": {
      "text/html": [
       "<div>\n",
       "<style scoped>\n",
       "    .dataframe tbody tr th:only-of-type {\n",
       "        vertical-align: middle;\n",
       "    }\n",
       "\n",
       "    .dataframe tbody tr th {\n",
       "        vertical-align: top;\n",
       "    }\n",
       "\n",
       "    .dataframe thead th {\n",
       "        text-align: right;\n",
       "    }\n",
       "</style>\n",
       "<table border=\"1\" class=\"dataframe\">\n",
       "  <thead>\n",
       "    <tr style=\"text-align: right;\">\n",
       "      <th></th>\n",
       "      <th>current_status</th>\n",
       "      <th>sex</th>\n",
       "      <th>age_group</th>\n",
       "      <th>Race and ethnicity (combined)</th>\n",
       "      <th>hosp_yn</th>\n",
       "      <th>icu_yn</th>\n",
       "      <th>death_yn</th>\n",
       "      <th>medcond_yn</th>\n",
       "      <th>Year</th>\n",
       "      <th>Month</th>\n",
       "      <th>Date</th>\n",
       "    </tr>\n",
       "  </thead>\n",
       "  <tbody>\n",
       "    <tr>\n",
       "      <th>0</th>\n",
       "      <td>Laboratory-confirmed case</td>\n",
       "      <td>Male</td>\n",
       "      <td>10 - 19 Years</td>\n",
       "      <td>Black, Non-Hispanic</td>\n",
       "      <td>No</td>\n",
       "      <td>Unknown</td>\n",
       "      <td>No</td>\n",
       "      <td>No</td>\n",
       "      <td>2020</td>\n",
       "      <td>11</td>\n",
       "      <td>10</td>\n",
       "    </tr>\n",
       "    <tr>\n",
       "      <th>1</th>\n",
       "      <td>Laboratory-confirmed case</td>\n",
       "      <td>Male</td>\n",
       "      <td>10 - 19 Years</td>\n",
       "      <td>Black, Non-Hispanic</td>\n",
       "      <td>No</td>\n",
       "      <td>No</td>\n",
       "      <td>No</td>\n",
       "      <td>No</td>\n",
       "      <td>2020</td>\n",
       "      <td>11</td>\n",
       "      <td>14</td>\n",
       "    </tr>\n",
       "    <tr>\n",
       "      <th>2</th>\n",
       "      <td>Laboratory-confirmed case</td>\n",
       "      <td>Male</td>\n",
       "      <td>10 - 19 Years</td>\n",
       "      <td>Black, Non-Hispanic</td>\n",
       "      <td>No</td>\n",
       "      <td>No</td>\n",
       "      <td>No</td>\n",
       "      <td>No</td>\n",
       "      <td>2020</td>\n",
       "      <td>11</td>\n",
       "      <td>19</td>\n",
       "    </tr>\n",
       "    <tr>\n",
       "      <th>3</th>\n",
       "      <td>Laboratory-confirmed case</td>\n",
       "      <td>Male</td>\n",
       "      <td>10 - 19 Years</td>\n",
       "      <td>Black, Non-Hispanic</td>\n",
       "      <td>Unknown</td>\n",
       "      <td>Unknown</td>\n",
       "      <td>No</td>\n",
       "      <td>Unknown</td>\n",
       "      <td>2020</td>\n",
       "      <td>11</td>\n",
       "      <td>14</td>\n",
       "    </tr>\n",
       "    <tr>\n",
       "      <th>4</th>\n",
       "      <td>Laboratory-confirmed case</td>\n",
       "      <td>Male</td>\n",
       "      <td>10 - 19 Years</td>\n",
       "      <td>Black, Non-Hispanic</td>\n",
       "      <td>No</td>\n",
       "      <td>No</td>\n",
       "      <td>No</td>\n",
       "      <td>Yes</td>\n",
       "      <td>2020</td>\n",
       "      <td>11</td>\n",
       "      <td>13</td>\n",
       "    </tr>\n",
       "  </tbody>\n",
       "</table>\n",
       "</div>"
      ],
      "text/plain": [
       "              current_status   sex      age_group  \\\n",
       "0  Laboratory-confirmed case  Male  10 - 19 Years   \n",
       "1  Laboratory-confirmed case  Male  10 - 19 Years   \n",
       "2  Laboratory-confirmed case  Male  10 - 19 Years   \n",
       "3  Laboratory-confirmed case  Male  10 - 19 Years   \n",
       "4  Laboratory-confirmed case  Male  10 - 19 Years   \n",
       "\n",
       "  Race and ethnicity (combined)  hosp_yn   icu_yn death_yn medcond_yn  Year  \\\n",
       "0           Black, Non-Hispanic       No  Unknown       No         No  2020   \n",
       "1           Black, Non-Hispanic       No       No       No         No  2020   \n",
       "2           Black, Non-Hispanic       No       No       No         No  2020   \n",
       "3           Black, Non-Hispanic  Unknown  Unknown       No    Unknown  2020   \n",
       "4           Black, Non-Hispanic       No       No       No        Yes  2020   \n",
       "\n",
       "   Month  Date  \n",
       "0     11    10  \n",
       "1     11    14  \n",
       "2     11    19  \n",
       "3     11    14  \n",
       "4     11    13  "
      ]
     },
     "execution_count": 80,
     "metadata": {},
     "output_type": "execute_result"
    }
   ],
   "source": [
    "Covid.head()"
   ]
  },
  {
   "cell_type": "code",
   "execution_count": 81,
   "metadata": {
    "execution": {
     "iopub.execute_input": "2022-01-24T18:10:27.576748Z",
     "iopub.status.busy": "2022-01-24T18:10:27.571282Z",
     "iopub.status.idle": "2022-01-24T18:10:27.614431Z",
     "shell.execute_reply": "2022-01-24T18:10:27.602995Z",
     "shell.execute_reply.started": "2022-01-24T18:10:27.576681Z"
    }
   },
   "outputs": [
    {
     "name": "stdout",
     "output_type": "stream",
     "text": [
      "<class 'pandas.core.frame.DataFrame'>\n",
      "RangeIndex: 8405079 entries, 0 to 8405078\n",
      "Data columns (total 11 columns):\n",
      " #   Column                         Dtype \n",
      "---  ------                         ----- \n",
      " 0   current_status                 object\n",
      " 1   sex                            object\n",
      " 2   age_group                      object\n",
      " 3   Race and ethnicity (combined)  object\n",
      " 4   hosp_yn                        object\n",
      " 5   icu_yn                         object\n",
      " 6   death_yn                       object\n",
      " 7   medcond_yn                     object\n",
      " 8   Year                           int64 \n",
      " 9   Month                          int64 \n",
      " 10  Date                           int64 \n",
      "dtypes: int64(3), object(8)\n",
      "memory usage: 705.4+ MB\n"
     ]
    }
   ],
   "source": [
    "Covid.info()"
   ]
  },
  {
   "cell_type": "code",
   "execution_count": 82,
   "metadata": {
    "execution": {
     "iopub.execute_input": "2022-01-24T18:10:27.618586Z",
     "iopub.status.busy": "2022-01-24T18:10:27.616703Z",
     "iopub.status.idle": "2022-01-24T18:10:29.089894Z",
     "shell.execute_reply": "2022-01-24T18:10:29.086361Z",
     "shell.execute_reply.started": "2022-01-24T18:10:27.618539Z"
    }
   },
   "outputs": [
    {
     "data": {
      "text/plain": [
       "20 - 29 Years    1635264\n",
       "30 - 39 Years    1372623\n",
       "40 - 49 Years    1267350\n",
       "50 - 59 Years    1227493\n",
       "60 - 69 Years     863260\n",
       "10 - 19 Years     841450\n",
       "70 - 79 Years     483689\n",
       "80+ Years         382869\n",
       "0 - 9 Years       299040\n",
       "Unknown            31952\n",
       "Name: age_group, dtype: int64"
      ]
     },
     "execution_count": 82,
     "metadata": {},
     "output_type": "execute_result"
    }
   ],
   "source": [
    "Covid['age_group'].value_counts()"
   ]
  },
  {
   "cell_type": "code",
   "execution_count": 83,
   "metadata": {
    "execution": {
     "iopub.execute_input": "2022-01-24T18:10:29.091785Z",
     "iopub.status.busy": "2022-01-24T18:10:29.091534Z",
     "iopub.status.idle": "2022-01-24T18:10:29.10172Z",
     "shell.execute_reply": "2022-01-24T18:10:29.098818Z",
     "shell.execute_reply.started": "2022-01-24T18:10:29.09175Z"
    }
   },
   "outputs": [],
   "source": [
    "#Dropping all rows with 'Unknown values' as well as dropping columns that are extremely skewed. "
   ]
  },
  {
   "cell_type": "code",
   "execution_count": 84,
   "metadata": {
    "execution": {
     "iopub.execute_input": "2022-01-24T18:10:29.106285Z",
     "iopub.status.busy": "2022-01-24T18:10:29.105967Z",
     "iopub.status.idle": "2022-01-24T18:10:37.10943Z",
     "shell.execute_reply": "2022-01-24T18:10:37.108693Z",
     "shell.execute_reply.started": "2022-01-24T18:10:29.10625Z"
    }
   },
   "outputs": [],
   "source": [
    "Covid = Covid[Covid['Race and ethnicity (combined)'] != 'Unknown']\n",
    "Covid = Covid[Covid.death_yn != 'Unknown']\n",
    "Covid = Covid[Covid['hosp_yn'] != 'Unknown']\n",
    "Covid = Covid.drop('icu_yn',axis=1)\n",
    "Covid = Covid.drop('medcond_yn',axis=1)\n",
    "Covid = Covid.drop('Year',axis=1)\n",
    "Covid = Covid[Covid.sex != 'Unknown']\n",
    "Covid = Covid[Covid.age_group != 'Unknown']"
   ]
  },
  {
   "cell_type": "code",
   "execution_count": 85,
   "metadata": {
    "execution": {
     "iopub.execute_input": "2022-01-24T18:10:37.110596Z",
     "iopub.status.busy": "2022-01-24T18:10:37.110374Z",
     "iopub.status.idle": "2022-01-24T18:10:37.139317Z",
     "shell.execute_reply": "2022-01-24T18:10:37.138586Z",
     "shell.execute_reply.started": "2022-01-24T18:10:37.110567Z"
    }
   },
   "outputs": [
    {
     "data": {
      "text/html": [
       "<div>\n",
       "<style scoped>\n",
       "    .dataframe tbody tr th:only-of-type {\n",
       "        vertical-align: middle;\n",
       "    }\n",
       "\n",
       "    .dataframe tbody tr th {\n",
       "        vertical-align: top;\n",
       "    }\n",
       "\n",
       "    .dataframe thead th {\n",
       "        text-align: right;\n",
       "    }\n",
       "</style>\n",
       "<table border=\"1\" class=\"dataframe\">\n",
       "  <thead>\n",
       "    <tr style=\"text-align: right;\">\n",
       "      <th></th>\n",
       "      <th>current_status</th>\n",
       "      <th>sex</th>\n",
       "      <th>age_group</th>\n",
       "      <th>Race and ethnicity (combined)</th>\n",
       "      <th>hosp_yn</th>\n",
       "      <th>death_yn</th>\n",
       "      <th>Month</th>\n",
       "      <th>Date</th>\n",
       "    </tr>\n",
       "  </thead>\n",
       "  <tbody>\n",
       "    <tr>\n",
       "      <th>0</th>\n",
       "      <td>Laboratory-confirmed case</td>\n",
       "      <td>Male</td>\n",
       "      <td>10 - 19 Years</td>\n",
       "      <td>Black, Non-Hispanic</td>\n",
       "      <td>No</td>\n",
       "      <td>No</td>\n",
       "      <td>11</td>\n",
       "      <td>10</td>\n",
       "    </tr>\n",
       "    <tr>\n",
       "      <th>1</th>\n",
       "      <td>Laboratory-confirmed case</td>\n",
       "      <td>Male</td>\n",
       "      <td>10 - 19 Years</td>\n",
       "      <td>Black, Non-Hispanic</td>\n",
       "      <td>No</td>\n",
       "      <td>No</td>\n",
       "      <td>11</td>\n",
       "      <td>14</td>\n",
       "    </tr>\n",
       "    <tr>\n",
       "      <th>2</th>\n",
       "      <td>Laboratory-confirmed case</td>\n",
       "      <td>Male</td>\n",
       "      <td>10 - 19 Years</td>\n",
       "      <td>Black, Non-Hispanic</td>\n",
       "      <td>No</td>\n",
       "      <td>No</td>\n",
       "      <td>11</td>\n",
       "      <td>19</td>\n",
       "    </tr>\n",
       "    <tr>\n",
       "      <th>4</th>\n",
       "      <td>Laboratory-confirmed case</td>\n",
       "      <td>Male</td>\n",
       "      <td>10 - 19 Years</td>\n",
       "      <td>Black, Non-Hispanic</td>\n",
       "      <td>No</td>\n",
       "      <td>No</td>\n",
       "      <td>11</td>\n",
       "      <td>13</td>\n",
       "    </tr>\n",
       "    <tr>\n",
       "      <th>11</th>\n",
       "      <td>Laboratory-confirmed case</td>\n",
       "      <td>Male</td>\n",
       "      <td>10 - 19 Years</td>\n",
       "      <td>Black, Non-Hispanic</td>\n",
       "      <td>No</td>\n",
       "      <td>No</td>\n",
       "      <td>11</td>\n",
       "      <td>9</td>\n",
       "    </tr>\n",
       "  </tbody>\n",
       "</table>\n",
       "</div>"
      ],
      "text/plain": [
       "               current_status   sex      age_group  \\\n",
       "0   Laboratory-confirmed case  Male  10 - 19 Years   \n",
       "1   Laboratory-confirmed case  Male  10 - 19 Years   \n",
       "2   Laboratory-confirmed case  Male  10 - 19 Years   \n",
       "4   Laboratory-confirmed case  Male  10 - 19 Years   \n",
       "11  Laboratory-confirmed case  Male  10 - 19 Years   \n",
       "\n",
       "   Race and ethnicity (combined) hosp_yn death_yn  Month  Date  \n",
       "0            Black, Non-Hispanic      No       No     11    10  \n",
       "1            Black, Non-Hispanic      No       No     11    14  \n",
       "2            Black, Non-Hispanic      No       No     11    19  \n",
       "4            Black, Non-Hispanic      No       No     11    13  \n",
       "11           Black, Non-Hispanic      No       No     11     9  "
      ]
     },
     "execution_count": 85,
     "metadata": {},
     "output_type": "execute_result"
    }
   ],
   "source": [
    "Covid.head()"
   ]
  },
  {
   "cell_type": "code",
   "execution_count": 86,
   "metadata": {
    "execution": {
     "iopub.execute_input": "2022-01-24T18:10:37.14448Z",
     "iopub.status.busy": "2022-01-24T18:10:37.140792Z",
     "iopub.status.idle": "2022-01-24T18:10:38.660931Z",
     "shell.execute_reply": "2022-01-24T18:10:38.660146Z",
     "shell.execute_reply.started": "2022-01-24T18:10:37.144402Z"
    }
   },
   "outputs": [
    {
     "data": {
      "text/plain": [
       "Oct      386330\n",
       "Nov      330068\n",
       "July     319933\n",
       "Aug      307821\n",
       "Sept     283115\n",
       "June     282875\n",
       "May      167242\n",
       "April    145247\n",
       "March     36176\n",
       "Feb         323\n",
       "Jan          61\n",
       "Name: Month, dtype: int64"
      ]
     },
     "execution_count": 86,
     "metadata": {},
     "output_type": "execute_result"
    }
   ],
   "source": [
    "lis = ['Jan','Feb','March','April','May','June','July','Aug','Sept','Oct','Nov','Dec']\n",
    "Covid['Month'] = Covid['Month'].apply(lambda x : lis[x-1])\n",
    "Covid['Month'].value_counts()"
   ]
  },
  {
   "cell_type": "code",
   "execution_count": 87,
   "metadata": {
    "execution": {
     "iopub.execute_input": "2022-01-24T18:10:38.66271Z",
     "iopub.status.busy": "2022-01-24T18:10:38.662164Z",
     "iopub.status.idle": "2022-01-24T18:10:38.69863Z",
     "shell.execute_reply": "2022-01-24T18:10:38.698037Z",
     "shell.execute_reply.started": "2022-01-24T18:10:38.662671Z"
    }
   },
   "outputs": [
    {
     "data": {
      "text/html": [
       "<div>\n",
       "<style scoped>\n",
       "    .dataframe tbody tr th:only-of-type {\n",
       "        vertical-align: middle;\n",
       "    }\n",
       "\n",
       "    .dataframe tbody tr th {\n",
       "        vertical-align: top;\n",
       "    }\n",
       "\n",
       "    .dataframe thead th {\n",
       "        text-align: right;\n",
       "    }\n",
       "</style>\n",
       "<table border=\"1\" class=\"dataframe\">\n",
       "  <thead>\n",
       "    <tr style=\"text-align: right;\">\n",
       "      <th></th>\n",
       "      <th>current_status</th>\n",
       "      <th>sex</th>\n",
       "      <th>age_group</th>\n",
       "      <th>Race and ethnicity (combined)</th>\n",
       "      <th>hosp_yn</th>\n",
       "      <th>death_yn</th>\n",
       "      <th>Month</th>\n",
       "      <th>Date</th>\n",
       "    </tr>\n",
       "  </thead>\n",
       "  <tbody>\n",
       "    <tr>\n",
       "      <th>0</th>\n",
       "      <td>Laboratory-confirmed case</td>\n",
       "      <td>Male</td>\n",
       "      <td>10 - 19 Years</td>\n",
       "      <td>Black, Non-Hispanic</td>\n",
       "      <td>No</td>\n",
       "      <td>No</td>\n",
       "      <td>Nov</td>\n",
       "      <td>10</td>\n",
       "    </tr>\n",
       "    <tr>\n",
       "      <th>1</th>\n",
       "      <td>Laboratory-confirmed case</td>\n",
       "      <td>Male</td>\n",
       "      <td>10 - 19 Years</td>\n",
       "      <td>Black, Non-Hispanic</td>\n",
       "      <td>No</td>\n",
       "      <td>No</td>\n",
       "      <td>Nov</td>\n",
       "      <td>14</td>\n",
       "    </tr>\n",
       "    <tr>\n",
       "      <th>2</th>\n",
       "      <td>Laboratory-confirmed case</td>\n",
       "      <td>Male</td>\n",
       "      <td>10 - 19 Years</td>\n",
       "      <td>Black, Non-Hispanic</td>\n",
       "      <td>No</td>\n",
       "      <td>No</td>\n",
       "      <td>Nov</td>\n",
       "      <td>19</td>\n",
       "    </tr>\n",
       "    <tr>\n",
       "      <th>4</th>\n",
       "      <td>Laboratory-confirmed case</td>\n",
       "      <td>Male</td>\n",
       "      <td>10 - 19 Years</td>\n",
       "      <td>Black, Non-Hispanic</td>\n",
       "      <td>No</td>\n",
       "      <td>No</td>\n",
       "      <td>Nov</td>\n",
       "      <td>13</td>\n",
       "    </tr>\n",
       "    <tr>\n",
       "      <th>11</th>\n",
       "      <td>Laboratory-confirmed case</td>\n",
       "      <td>Male</td>\n",
       "      <td>10 - 19 Years</td>\n",
       "      <td>Black, Non-Hispanic</td>\n",
       "      <td>No</td>\n",
       "      <td>No</td>\n",
       "      <td>Nov</td>\n",
       "      <td>9</td>\n",
       "    </tr>\n",
       "  </tbody>\n",
       "</table>\n",
       "</div>"
      ],
      "text/plain": [
       "               current_status   sex      age_group  \\\n",
       "0   Laboratory-confirmed case  Male  10 - 19 Years   \n",
       "1   Laboratory-confirmed case  Male  10 - 19 Years   \n",
       "2   Laboratory-confirmed case  Male  10 - 19 Years   \n",
       "4   Laboratory-confirmed case  Male  10 - 19 Years   \n",
       "11  Laboratory-confirmed case  Male  10 - 19 Years   \n",
       "\n",
       "   Race and ethnicity (combined) hosp_yn death_yn Month  Date  \n",
       "0            Black, Non-Hispanic      No       No   Nov    10  \n",
       "1            Black, Non-Hispanic      No       No   Nov    14  \n",
       "2            Black, Non-Hispanic      No       No   Nov    19  \n",
       "4            Black, Non-Hispanic      No       No   Nov    13  \n",
       "11           Black, Non-Hispanic      No       No   Nov     9  "
      ]
     },
     "execution_count": 87,
     "metadata": {},
     "output_type": "execute_result"
    }
   ],
   "source": [
    "Covid.head()"
   ]
  },
  {
   "cell_type": "code",
   "execution_count": 88,
   "metadata": {
    "execution": {
     "iopub.execute_input": "2022-01-24T18:10:38.699767Z",
     "iopub.status.busy": "2022-01-24T18:10:38.69953Z",
     "iopub.status.idle": "2022-01-24T18:10:38.703704Z",
     "shell.execute_reply": "2022-01-24T18:10:38.703066Z",
     "shell.execute_reply.started": "2022-01-24T18:10:38.699725Z"
    }
   },
   "outputs": [],
   "source": [
    "#We come to the end of our data inspection and cleaning"
   ]
  },
  {
   "cell_type": "code",
   "execution_count": 89,
   "metadata": {
    "execution": {
     "iopub.execute_input": "2022-01-24T18:10:38.705524Z",
     "iopub.status.busy": "2022-01-24T18:10:38.70506Z",
     "iopub.status.idle": "2022-01-24T18:10:38.725413Z",
     "shell.execute_reply": "2022-01-24T18:10:38.724521Z",
     "shell.execute_reply.started": "2022-01-24T18:10:38.705489Z"
    }
   },
   "outputs": [],
   "source": [
    "#EDA"
   ]
  },
  {
   "cell_type": "code",
   "execution_count": 90,
   "metadata": {
    "execution": {
     "iopub.execute_input": "2022-01-24T18:10:38.726484Z",
     "iopub.status.busy": "2022-01-24T18:10:38.726291Z",
     "iopub.status.idle": "2022-01-24T18:10:46.096879Z",
     "shell.execute_reply": "2022-01-24T18:10:46.095918Z",
     "shell.execute_reply.started": "2022-01-24T18:10:38.726456Z"
    }
   },
   "outputs": [
    {
     "data": {
      "image/png": "[encoded data removed]",
      "text/plain": [
       "<Figure size 864x360 with 1 Axes>"
      ]
     },
     "metadata": {
      "needs_background": "light"
     },
     "output_type": "display_data"
    }
   ],
   "source": [
    "plt.figure(figsize=(12,5))\n",
    "sns.countplot(x=Covid['age_group'],hue=Covid['death_yn'])\n",
    "plt.title('Death vs Age Group')\n",
    "plt.xlabel('Age Group')\n",
    "plt.show()"
   ]
  },
  {
   "cell_type": "code",
   "execution_count": 91,
   "metadata": {
    "execution": {
     "iopub.execute_input": "2022-01-24T18:10:46.110285Z",
     "iopub.status.busy": "2022-01-24T18:10:46.105936Z",
     "iopub.status.idle": "2022-01-24T18:10:53.233259Z",
     "shell.execute_reply": "2022-01-24T18:10:53.230349Z",
     "shell.execute_reply.started": "2022-01-24T18:10:46.110195Z"
    }
   },
   "outputs": [
    {
     "data": {
      "image/png": "[encoded data removed]",
      "text/plain": [
       "<Figure size 864x360 with 1 Axes>"
      ]
     },
     "metadata": {
      "needs_background": "light"
     },
     "output_type": "display_data"
    }
   ],
   "source": [
    "plt.figure(figsize=(12,5))\n",
    "sns.countplot(x=Covid['age_group'],hue=Covid['hosp_yn'])\n",
    "plt.title('Hospitalisation vs Age Group')\n",
    "plt.xlabel('Age Group')\n",
    "plt.show()"
   ]
  },
  {
   "cell_type": "code",
   "execution_count": 92,
   "metadata": {
    "execution": {
     "iopub.execute_input": "2022-01-24T18:10:53.238516Z",
     "iopub.status.busy": "2022-01-24T18:10:53.234504Z",
     "iopub.status.idle": "2022-01-24T18:10:58.645561Z",
     "shell.execute_reply": "2022-01-24T18:10:58.644801Z",
     "shell.execute_reply.started": "2022-01-24T18:10:53.23846Z"
    }
   },
   "outputs": [
    {
     "data": {
      "image/png": "[encoded data removed]",
      "text/plain": [
       "<Figure size 864x360 with 1 Axes>"
      ]
     },
     "metadata": {
      "needs_background": "light"
     },
     "output_type": "display_data"
    }
   ],
   "source": [
    "plt.figure(figsize=(12,5))\n",
    "sns.countplot(x=Covid['current_status'],hue=Covid['hosp_yn'])\n",
    "plt.title('Hospitalisation vs Current Status')\n",
    "plt.xlabel('Current Status')\n",
    "plt.show()"
   ]
  },
  {
   "cell_type": "code",
   "execution_count": 93,
   "metadata": {
    "execution": {
     "iopub.execute_input": "2022-01-24T18:10:58.659084Z",
     "iopub.status.busy": "2022-01-24T18:10:58.652188Z",
     "iopub.status.idle": "2022-01-24T18:11:04.084067Z",
     "shell.execute_reply": "2022-01-24T18:11:04.082962Z",
     "shell.execute_reply.started": "2022-01-24T18:10:58.659024Z"
    }
   },
   "outputs": [
    {
     "data": {
      "image/png": "[encoded data removed]",
      "text/plain": [
       "<Figure size 864x360 with 1 Axes>"
      ]
     },
     "metadata": {
      "needs_background": "light"
     },
     "output_type": "display_data"
    }
   ],
   "source": [
    "plt.figure(figsize=(12,5))\n",
    "sns.countplot(x=Covid['current_status'],hue=Covid['death_yn'])\n",
    "plt.title('Death vs Current Status')\n",
    "plt.xlabel('Current Status')\n",
    "plt.show()"
   ]
  },
  {
   "cell_type": "code",
   "execution_count": 94,
   "metadata": {
    "execution": {
     "iopub.execute_input": "2022-01-24T18:11:04.085772Z",
     "iopub.status.busy": "2022-01-24T18:11:04.085495Z",
     "iopub.status.idle": "2022-01-24T18:11:08.859932Z",
     "shell.execute_reply": "2022-01-24T18:11:08.853779Z",
     "shell.execute_reply.started": "2022-01-24T18:11:04.085736Z"
    }
   },
   "outputs": [
    {
     "data": {
      "image/png": "[encoded data removed]",
      "text/plain": [
       "<Figure size 864x360 with 1 Axes>"
      ]
     },
     "metadata": {
      "needs_background": "light"
     },
     "output_type": "display_data"
    }
   ],
   "source": [
    "plt.figure(figsize=(12,5))\n",
    "sns.countplot(y=Covid['Race and ethnicity (combined)'],hue=Covid['hosp_yn'])\n",
    "plt.title('Hospitalisation vs Race and ethnicity (combined)')\n",
    "plt.ylabel('Race and ethnicity (combined)')\n",
    "plt.show()"
   ]
  },
  {
   "cell_type": "code",
   "execution_count": 95,
   "metadata": {
    "execution": {
     "iopub.execute_input": "2022-01-24T18:11:08.867597Z",
     "iopub.status.busy": "2022-01-24T18:11:08.866881Z",
     "iopub.status.idle": "2022-01-24T18:11:14.946307Z",
     "shell.execute_reply": "2022-01-24T18:11:14.942643Z",
     "shell.execute_reply.started": "2022-01-24T18:11:08.867562Z"
    }
   },
   "outputs": [
    {
     "data": {
      "image/png": "[encoded data removed]",
      "text/plain": [
       "<Figure size 864x360 with 1 Axes>"
      ]
     },
     "metadata": {
      "needs_background": "light"
     },
     "output_type": "display_data"
    }
   ],
   "source": [
    "plt.figure(figsize=(12,5))\n",
    "sns.countplot(y=Covid['Race and ethnicity (combined)'],hue=Covid['death_yn'])\n",
    "plt.title('Death vs Race and ethnicity (combined)')\n",
    "plt.ylabel('Race and ethnicity (combined)')\n",
    "plt.show()"
   ]
  },
  {
   "cell_type": "code",
   "execution_count": 96,
   "metadata": {
    "execution": {
     "iopub.execute_input": "2022-01-24T18:11:14.950807Z",
     "iopub.status.busy": "2022-01-24T18:11:14.948153Z",
     "iopub.status.idle": "2022-01-24T18:11:24.586756Z",
     "shell.execute_reply": "2022-01-24T18:11:24.586095Z",
     "shell.execute_reply.started": "2022-01-24T18:11:14.950748Z"
    }
   },
   "outputs": [
    {
     "data": {
      "image/png": "[encoded data removed]",
      "text/plain": [
       "<Figure size 1080x720 with 1 Axes>"
      ]
     },
     "metadata": {
      "needs_background": "light"
     },
     "output_type": "display_data"
    }
   ],
   "source": [
    "plt.figure(figsize=(15,10))\n",
    "sns.countplot(x='Month',hue='age_group',data=Covid)\n",
    "plt.title('Month vs Age Group')\n",
    "plt.ylabel('Month')\n",
    "plt.legend(loc='upper right') \n",
    "plt.show()"
   ]
  },
  {
   "cell_type": "code",
   "execution_count": 97,
   "metadata": {
    "execution": {
     "iopub.execute_input": "2022-01-24T18:11:24.588664Z",
     "iopub.status.busy": "2022-01-24T18:11:24.588221Z",
     "iopub.status.idle": "2022-01-24T18:12:31.809408Z",
     "shell.execute_reply": "2022-01-24T18:12:31.795462Z",
     "shell.execute_reply.started": "2022-01-24T18:11:24.588631Z"
    }
   },
   "outputs": [
    {
     "data": {
      "image/png": "[encoded data removed]",
      "text/plain": [
       "<Figure size 864x360 with 1 Axes>"
      ]
     },
     "metadata": {
      "needs_background": "light"
     },
     "output_type": "display_data"
    }
   ],
   "source": [
    "plt.figure(figsize=(12,5))\n",
    "sns.barplot(x='age_group',y='Date',data=Covid)\n",
    "plt.title('Date vs Age Group')\n",
    "plt.ylabel('Date')\n",
    "plt.xlabel('Age Group')\n",
    "plt.show()"
   ]
  },
  {
   "cell_type": "code",
   "execution_count": 98,
   "metadata": {
    "execution": {
     "iopub.execute_input": "2022-01-24T18:12:31.812352Z",
     "iopub.status.busy": "2022-01-24T18:12:31.811134Z",
     "iopub.status.idle": "2022-01-24T18:12:38.770854Z",
     "shell.execute_reply": "2022-01-24T18:12:38.764399Z",
     "shell.execute_reply.started": "2022-01-24T18:12:31.812302Z"
    }
   },
   "outputs": [
    {
     "data": {
      "image/png": "[encoded data removed]",
      "text/plain": [
       "<Figure size 864x360 with 1 Axes>"
      ]
     },
     "metadata": {
      "needs_background": "light"
     },
     "output_type": "display_data"
    }
   ],
   "source": [
    "plt.figure(figsize=(12,5))\n",
    "sns.countplot(x='Month',hue='death_yn',data=Covid)\n",
    "plt.title('Death vs Month')\n",
    "plt.xlabel('Month')\n",
    "plt.legend(loc='upper right') \n",
    "plt.show()"
   ]
  },
  {
   "cell_type": "code",
   "execution_count": 99,
   "metadata": {
    "execution": {
     "iopub.execute_input": "2022-01-24T18:12:38.772747Z",
     "iopub.status.busy": "2022-01-24T18:12:38.772461Z",
     "iopub.status.idle": "2022-01-24T18:14:32.543025Z",
     "shell.execute_reply": "2022-01-24T18:14:32.542301Z",
     "shell.execute_reply.started": "2022-01-24T18:12:38.772705Z"
    }
   },
   "outputs": [
    {
     "data": {
      "image/png": "[encoded data removed]",
      "text/plain": [
       "<Figure size 720x360 with 1 Axes>"
      ]
     },
     "metadata": {
      "needs_background": "light"
     },
     "output_type": "display_data"
    }
   ],
   "source": [
    "plt.figure(figsize=(10,5))\n",
    "sns.barplot(x='death_yn',y='Date',data=Covid)\n",
    "plt.title('Date vs Death')\n",
    "plt.xlabel('Death')\n",
    "plt.show()"
   ]
  },
  {
   "cell_type": "code",
   "execution_count": null,
   "metadata": {
    "execution": {
     "iopub.execute_input": "2022-01-24T18:14:32.547489Z",
     "iopub.status.busy": "2022-01-24T18:14:32.544164Z",
     "iopub.status.idle": "2022-01-24T18:14:32.567823Z",
     "shell.execute_reply": "2022-01-24T18:14:32.567112Z",
     "shell.execute_reply.started": "2022-01-24T18:14:32.547448Z"
    }
   },
   "outputs": [],
   "source": [
    "#We come to the end of our Exploratory Data Analysis-EDA"
   ]
  },
  {
   "cell_type": "code",
   "execution_count": null,
   "metadata": {
    "execution": {
     "iopub.execute_input": "2022-01-24T18:14:32.576042Z",
     "iopub.status.busy": "2022-01-24T18:14:32.569123Z",
     "iopub.status.idle": "2022-01-24T18:14:32.58316Z",
     "shell.execute_reply": "2022-01-24T18:14:32.582376Z",
     "shell.execute_reply.started": "2022-01-24T18:14:32.575978Z"
    }
   },
   "outputs": [],
   "source": [
    "#Model building"
   ]
  },
  {
   "cell_type": "code",
   "execution_count": 100,
   "metadata": {
    "execution": {
     "iopub.execute_input": "2022-01-24T18:14:32.585369Z",
     "iopub.status.busy": "2022-01-24T18:14:32.584901Z",
     "iopub.status.idle": "2022-01-24T18:14:32.638114Z",
     "shell.execute_reply": "2022-01-24T18:14:32.629867Z",
     "shell.execute_reply.started": "2022-01-24T18:14:32.585335Z"
    }
   },
   "outputs": [
    {
     "data": {
      "text/html": [
       "<div>\n",
       "<style scoped>\n",
       "    .dataframe tbody tr th:only-of-type {\n",
       "        vertical-align: middle;\n",
       "    }\n",
       "\n",
       "    .dataframe tbody tr th {\n",
       "        vertical-align: top;\n",
       "    }\n",
       "\n",
       "    .dataframe thead th {\n",
       "        text-align: right;\n",
       "    }\n",
       "</style>\n",
       "<table border=\"1\" class=\"dataframe\">\n",
       "  <thead>\n",
       "    <tr style=\"text-align: right;\">\n",
       "      <th></th>\n",
       "      <th>current_status</th>\n",
       "      <th>sex</th>\n",
       "      <th>age_group</th>\n",
       "      <th>Race and ethnicity (combined)</th>\n",
       "      <th>hosp_yn</th>\n",
       "      <th>death_yn</th>\n",
       "      <th>Month</th>\n",
       "      <th>Date</th>\n",
       "    </tr>\n",
       "  </thead>\n",
       "  <tbody>\n",
       "    <tr>\n",
       "      <th>0</th>\n",
       "      <td>Laboratory-confirmed case</td>\n",
       "      <td>Male</td>\n",
       "      <td>10 - 19 Years</td>\n",
       "      <td>Black, Non-Hispanic</td>\n",
       "      <td>No</td>\n",
       "      <td>No</td>\n",
       "      <td>Nov</td>\n",
       "      <td>10</td>\n",
       "    </tr>\n",
       "    <tr>\n",
       "      <th>1</th>\n",
       "      <td>Laboratory-confirmed case</td>\n",
       "      <td>Male</td>\n",
       "      <td>10 - 19 Years</td>\n",
       "      <td>Black, Non-Hispanic</td>\n",
       "      <td>No</td>\n",
       "      <td>No</td>\n",
       "      <td>Nov</td>\n",
       "      <td>14</td>\n",
       "    </tr>\n",
       "    <tr>\n",
       "      <th>2</th>\n",
       "      <td>Laboratory-confirmed case</td>\n",
       "      <td>Male</td>\n",
       "      <td>10 - 19 Years</td>\n",
       "      <td>Black, Non-Hispanic</td>\n",
       "      <td>No</td>\n",
       "      <td>No</td>\n",
       "      <td>Nov</td>\n",
       "      <td>19</td>\n",
       "    </tr>\n",
       "    <tr>\n",
       "      <th>4</th>\n",
       "      <td>Laboratory-confirmed case</td>\n",
       "      <td>Male</td>\n",
       "      <td>10 - 19 Years</td>\n",
       "      <td>Black, Non-Hispanic</td>\n",
       "      <td>No</td>\n",
       "      <td>No</td>\n",
       "      <td>Nov</td>\n",
       "      <td>13</td>\n",
       "    </tr>\n",
       "    <tr>\n",
       "      <th>11</th>\n",
       "      <td>Laboratory-confirmed case</td>\n",
       "      <td>Male</td>\n",
       "      <td>10 - 19 Years</td>\n",
       "      <td>Black, Non-Hispanic</td>\n",
       "      <td>No</td>\n",
       "      <td>No</td>\n",
       "      <td>Nov</td>\n",
       "      <td>9</td>\n",
       "    </tr>\n",
       "  </tbody>\n",
       "</table>\n",
       "</div>"
      ],
      "text/plain": [
       "               current_status   sex      age_group  \\\n",
       "0   Laboratory-confirmed case  Male  10 - 19 Years   \n",
       "1   Laboratory-confirmed case  Male  10 - 19 Years   \n",
       "2   Laboratory-confirmed case  Male  10 - 19 Years   \n",
       "4   Laboratory-confirmed case  Male  10 - 19 Years   \n",
       "11  Laboratory-confirmed case  Male  10 - 19 Years   \n",
       "\n",
       "   Race and ethnicity (combined) hosp_yn death_yn Month  Date  \n",
       "0            Black, Non-Hispanic      No       No   Nov    10  \n",
       "1            Black, Non-Hispanic      No       No   Nov    14  \n",
       "2            Black, Non-Hispanic      No       No   Nov    19  \n",
       "4            Black, Non-Hispanic      No       No   Nov    13  \n",
       "11           Black, Non-Hispanic      No       No   Nov     9  "
      ]
     },
     "execution_count": 100,
     "metadata": {},
     "output_type": "execute_result"
    }
   ],
   "source": [
    "Covid.head()"
   ]
  },
  {
   "cell_type": "code",
   "execution_count": 101,
   "metadata": {
    "execution": {
     "iopub.execute_input": "2022-01-24T18:14:32.643041Z",
     "iopub.status.busy": "2022-01-24T18:14:32.639648Z",
     "iopub.status.idle": "2022-01-24T18:14:32.707426Z",
     "shell.execute_reply": "2022-01-24T18:14:32.706525Z",
     "shell.execute_reply.started": "2022-01-24T18:14:32.642972Z"
    }
   },
   "outputs": [
    {
     "name": "stdout",
     "output_type": "stream",
     "text": [
      "<class 'pandas.core.frame.DataFrame'>\n",
      "Int64Index: 2259191 entries, 0 to 8404673\n",
      "Data columns (total 8 columns):\n",
      " #   Column                         Dtype \n",
      "---  ------                         ----- \n",
      " 0   current_status                 object\n",
      " 1   sex                            object\n",
      " 2   age_group                      object\n",
      " 3   Race and ethnicity (combined)  object\n",
      " 4   hosp_yn                        object\n",
      " 5   death_yn                       object\n",
      " 6   Month                          object\n",
      " 7   Date                           int64 \n",
      "dtypes: int64(1), object(7)\n",
      "memory usage: 155.1+ MB\n"
     ]
    }
   ],
   "source": [
    "Covid.info()"
   ]
  },
  {
   "cell_type": "code",
   "execution_count": 102,
   "metadata": {
    "execution": {
     "iopub.execute_input": "2022-01-24T18:14:32.732544Z",
     "iopub.status.busy": "2022-01-24T18:14:32.715272Z",
     "iopub.status.idle": "2022-01-24T18:14:32.741086Z",
     "shell.execute_reply": "2022-01-24T18:14:32.740384Z",
     "shell.execute_reply.started": "2022-01-24T18:14:32.732469Z"
    }
   },
   "outputs": [],
   "source": [
    "#Creating dummy variables and not dropping the first dummy since we wish to study the relationship between the target and \n",
    "#dependent variables. "
   ]
  },
  {
   "cell_type": "code",
   "execution_count": 103,
   "metadata": {},
   "outputs": [],
   "source": [
    "# pandas.get_dummies() converts categorical data into dummy or indicator variables. Try this:\n",
    "#con = pd.Series(list('abcba'))\n",
    "#print(pd.get_dummies(con))."
   ]
  },
  {
   "cell_type": "code",
   "execution_count": 104,
   "metadata": {
    "execution": {
     "iopub.execute_input": "2022-01-24T18:14:32.742193Z",
     "iopub.status.busy": "2022-01-24T18:14:32.74199Z",
     "iopub.status.idle": "2022-01-24T18:14:39.156848Z",
     "shell.execute_reply": "2022-01-24T18:14:39.156119Z",
     "shell.execute_reply.started": "2022-01-24T18:14:32.742164Z"
    }
   },
   "outputs": [
    {
     "data": {
      "text/html": [
       "<div>\n",
       "<style scoped>\n",
       "    .dataframe tbody tr th:only-of-type {\n",
       "        vertical-align: middle;\n",
       "    }\n",
       "\n",
       "    .dataframe tbody tr th {\n",
       "        vertical-align: top;\n",
       "    }\n",
       "\n",
       "    .dataframe thead th {\n",
       "        text-align: right;\n",
       "    }\n",
       "</style>\n",
       "<table border=\"1\" class=\"dataframe\">\n",
       "  <thead>\n",
       "    <tr style=\"text-align: right;\">\n",
       "      <th></th>\n",
       "      <th>hosp_yn</th>\n",
       "      <th>death_yn</th>\n",
       "      <th>Date</th>\n",
       "      <th>Laboratory-confirmed case</th>\n",
       "      <th>Probable Case</th>\n",
       "      <th>0 - 9 Years</th>\n",
       "      <th>10 - 19 Years</th>\n",
       "      <th>20 - 29 Years</th>\n",
       "      <th>30 - 39 Years</th>\n",
       "      <th>40 - 49 Years</th>\n",
       "      <th>...</th>\n",
       "      <th>Aug</th>\n",
       "      <th>Feb</th>\n",
       "      <th>Jan</th>\n",
       "      <th>July</th>\n",
       "      <th>June</th>\n",
       "      <th>March</th>\n",
       "      <th>May</th>\n",
       "      <th>Nov</th>\n",
       "      <th>Oct</th>\n",
       "      <th>Sept</th>\n",
       "    </tr>\n",
       "  </thead>\n",
       "  <tbody>\n",
       "    <tr>\n",
       "      <th>0</th>\n",
       "      <td>No</td>\n",
       "      <td>No</td>\n",
       "      <td>10</td>\n",
       "      <td>1</td>\n",
       "      <td>0</td>\n",
       "      <td>0</td>\n",
       "      <td>1</td>\n",
       "      <td>0</td>\n",
       "      <td>0</td>\n",
       "      <td>0</td>\n",
       "      <td>...</td>\n",
       "      <td>0</td>\n",
       "      <td>0</td>\n",
       "      <td>0</td>\n",
       "      <td>0</td>\n",
       "      <td>0</td>\n",
       "      <td>0</td>\n",
       "      <td>0</td>\n",
       "      <td>1</td>\n",
       "      <td>0</td>\n",
       "      <td>0</td>\n",
       "    </tr>\n",
       "    <tr>\n",
       "      <th>1</th>\n",
       "      <td>No</td>\n",
       "      <td>No</td>\n",
       "      <td>14</td>\n",
       "      <td>1</td>\n",
       "      <td>0</td>\n",
       "      <td>0</td>\n",
       "      <td>1</td>\n",
       "      <td>0</td>\n",
       "      <td>0</td>\n",
       "      <td>0</td>\n",
       "      <td>...</td>\n",
       "      <td>0</td>\n",
       "      <td>0</td>\n",
       "      <td>0</td>\n",
       "      <td>0</td>\n",
       "      <td>0</td>\n",
       "      <td>0</td>\n",
       "      <td>0</td>\n",
       "      <td>1</td>\n",
       "      <td>0</td>\n",
       "      <td>0</td>\n",
       "    </tr>\n",
       "    <tr>\n",
       "      <th>2</th>\n",
       "      <td>No</td>\n",
       "      <td>No</td>\n",
       "      <td>19</td>\n",
       "      <td>1</td>\n",
       "      <td>0</td>\n",
       "      <td>0</td>\n",
       "      <td>1</td>\n",
       "      <td>0</td>\n",
       "      <td>0</td>\n",
       "      <td>0</td>\n",
       "      <td>...</td>\n",
       "      <td>0</td>\n",
       "      <td>0</td>\n",
       "      <td>0</td>\n",
       "      <td>0</td>\n",
       "      <td>0</td>\n",
       "      <td>0</td>\n",
       "      <td>0</td>\n",
       "      <td>1</td>\n",
       "      <td>0</td>\n",
       "      <td>0</td>\n",
       "    </tr>\n",
       "    <tr>\n",
       "      <th>4</th>\n",
       "      <td>No</td>\n",
       "      <td>No</td>\n",
       "      <td>13</td>\n",
       "      <td>1</td>\n",
       "      <td>0</td>\n",
       "      <td>0</td>\n",
       "      <td>1</td>\n",
       "      <td>0</td>\n",
       "      <td>0</td>\n",
       "      <td>0</td>\n",
       "      <td>...</td>\n",
       "      <td>0</td>\n",
       "      <td>0</td>\n",
       "      <td>0</td>\n",
       "      <td>0</td>\n",
       "      <td>0</td>\n",
       "      <td>0</td>\n",
       "      <td>0</td>\n",
       "      <td>1</td>\n",
       "      <td>0</td>\n",
       "      <td>0</td>\n",
       "    </tr>\n",
       "    <tr>\n",
       "      <th>11</th>\n",
       "      <td>No</td>\n",
       "      <td>No</td>\n",
       "      <td>9</td>\n",
       "      <td>1</td>\n",
       "      <td>0</td>\n",
       "      <td>0</td>\n",
       "      <td>1</td>\n",
       "      <td>0</td>\n",
       "      <td>0</td>\n",
       "      <td>0</td>\n",
       "      <td>...</td>\n",
       "      <td>0</td>\n",
       "      <td>0</td>\n",
       "      <td>0</td>\n",
       "      <td>0</td>\n",
       "      <td>0</td>\n",
       "      <td>0</td>\n",
       "      <td>0</td>\n",
       "      <td>1</td>\n",
       "      <td>0</td>\n",
       "      <td>0</td>\n",
       "    </tr>\n",
       "  </tbody>\n",
       "</table>\n",
       "<p>5 rows × 35 columns</p>\n",
       "</div>"
      ],
      "text/plain": [
       "   hosp_yn death_yn  Date  Laboratory-confirmed case  Probable Case  \\\n",
       "0       No       No    10                          1              0   \n",
       "1       No       No    14                          1              0   \n",
       "2       No       No    19                          1              0   \n",
       "4       No       No    13                          1              0   \n",
       "11      No       No     9                          1              0   \n",
       "\n",
       "    0 - 9 Years  10 - 19 Years  20 - 29 Years  30 - 39 Years  40 - 49 Years  \\\n",
       "0             0              1              0              0              0   \n",
       "1             0              1              0              0              0   \n",
       "2             0              1              0              0              0   \n",
       "4             0              1              0              0              0   \n",
       "11            0              1              0              0              0   \n",
       "\n",
       "    ...  Aug  Feb  Jan  July  June  March  May  Nov  Oct  Sept  \n",
       "0   ...    0    0    0     0     0      0    0    1    0     0  \n",
       "1   ...    0    0    0     0     0      0    0    1    0     0  \n",
       "2   ...    0    0    0     0     0      0    0    1    0     0  \n",
       "4   ...    0    0    0     0     0      0    0    1    0     0  \n",
       "11  ...    0    0    0     0     0      0    0    1    0     0  \n",
       "\n",
       "[5 rows x 35 columns]"
      ]
     },
     "execution_count": 104,
     "metadata": {},
     "output_type": "execute_result"
    }
   ],
   "source": [
    "status = pd.get_dummies(Covid['current_status'], drop_first = False)\n",
    "Covid = pd.concat([Covid, status], axis = 1)\n",
    "Covid.drop(['current_status'], axis = 1, inplace = True)\n",
    "status = pd.get_dummies(Covid['age_group'], drop_first = False)\n",
    "Covid = pd.concat([Covid, status], axis = 1)\n",
    "Covid.drop(['age_group'], axis = 1, inplace = True)\n",
    "status = pd.get_dummies(Covid['Race and ethnicity (combined)'], drop_first = False)\n",
    "Covid = pd.concat([Covid, status], axis = 1)\n",
    "Covid.drop(['Race and ethnicity (combined)'], axis = 1, inplace = True)\n",
    "status = pd.get_dummies(Covid['sex'], drop_first = False)\n",
    "Covid = pd.concat([Covid, status], axis = 1)\n",
    "Covid.drop(['sex'], axis = 1, inplace = True)\n",
    "status = pd.get_dummies(Covid['Month'], drop_first = False)\n",
    "Covid = pd.concat([Covid, status], axis = 1)\n",
    "Covid.drop(['Month'], axis = 1, inplace = True)\n",
    "Covid.head()"
   ]
  },
  {
   "cell_type": "code",
   "execution_count": 105,
   "metadata": {
    "execution": {
     "iopub.execute_input": "2022-01-24T18:14:39.173819Z",
     "iopub.status.busy": "2022-01-24T18:14:39.163371Z",
     "iopub.status.idle": "2022-01-24T18:14:40.389169Z",
     "shell.execute_reply": "2022-01-24T18:14:40.388349Z",
     "shell.execute_reply.started": "2022-01-24T18:14:39.173739Z"
    }
   },
   "outputs": [
    {
     "data": {
      "text/plain": [
       "0    2138909\n",
       "1     120282\n",
       "Name: death_yn, dtype: int64"
      ]
     },
     "execution_count": 105,
     "metadata": {},
     "output_type": "execute_result"
    }
   ],
   "source": [
    "Covid['death_yn'] = Covid['death_yn'].map({'Yes': 1, \"No\": 0})\n",
    "Covid['hosp_yn'] = Covid['hosp_yn'].map({'Yes': 1, \"No\": 0})\n",
    "Covid.death_yn.value_counts()"
   ]
  },
  {
   "cell_type": "code",
   "execution_count": 106,
   "metadata": {
    "execution": {
     "iopub.execute_input": "2022-01-24T18:14:40.400484Z",
     "iopub.status.busy": "2022-01-24T18:14:40.396176Z",
     "iopub.status.idle": "2022-01-24T18:14:40.454005Z",
     "shell.execute_reply": "2022-01-24T18:14:40.453322Z",
     "shell.execute_reply.started": "2022-01-24T18:14:40.400421Z"
    }
   },
   "outputs": [
    {
     "name": "stdout",
     "output_type": "stream",
     "text": [
      "<class 'pandas.core.frame.DataFrame'>\n",
      "Int64Index: 2259191 entries, 0 to 8404673\n",
      "Data columns (total 35 columns):\n",
      " #   Column                                                Dtype\n",
      "---  ------                                                -----\n",
      " 0   hosp_yn                                               int64\n",
      " 1   death_yn                                              int64\n",
      " 2   Date                                                  int64\n",
      " 3   Laboratory-confirmed case                             uint8\n",
      " 4   Probable Case                                         uint8\n",
      " 5   0 - 9 Years                                           uint8\n",
      " 6   10 - 19 Years                                         uint8\n",
      " 7   20 - 29 Years                                         uint8\n",
      " 8   30 - 39 Years                                         uint8\n",
      " 9   40 - 49 Years                                         uint8\n",
      " 10  50 - 59 Years                                         uint8\n",
      " 11  60 - 69 Years                                         uint8\n",
      " 12  70 - 79 Years                                         uint8\n",
      " 13  80+ Years                                             uint8\n",
      " 14  American Indian/Alaska Native, Non-Hispanic           uint8\n",
      " 15  Asian, Non-Hispanic                                   uint8\n",
      " 16  Black, Non-Hispanic                                   uint8\n",
      " 17  Hispanic/Latino                                       uint8\n",
      " 18  Multiple/Other, Non-Hispanic                          uint8\n",
      " 19  Native Hawaiian/Other Pacific Islander, Non-Hispanic  uint8\n",
      " 20  White, Non-Hispanic                                   uint8\n",
      " 21  Female                                                uint8\n",
      " 22  Male                                                  uint8\n",
      " 23  Other                                                 uint8\n",
      " 24  April                                                 uint8\n",
      " 25  Aug                                                   uint8\n",
      " 26  Feb                                                   uint8\n",
      " 27  Jan                                                   uint8\n",
      " 28  July                                                  uint8\n",
      " 29  June                                                  uint8\n",
      " 30  March                                                 uint8\n",
      " 31  May                                                   uint8\n",
      " 32  Nov                                                   uint8\n",
      " 33  Oct                                                   uint8\n",
      " 34  Sept                                                  uint8\n",
      "dtypes: int64(3), uint8(32)\n",
      "memory usage: 137.9 MB\n"
     ]
    }
   ],
   "source": [
    "Covid.info()"
   ]
  },
  {
   "cell_type": "code",
   "execution_count": 107,
   "metadata": {
    "execution": {
     "iopub.execute_input": "2022-01-24T18:14:40.467505Z",
     "iopub.status.busy": "2022-01-24T18:14:40.45998Z",
     "iopub.status.idle": "2022-01-24T18:14:40.61644Z",
     "shell.execute_reply": "2022-01-24T18:14:40.615313Z",
     "shell.execute_reply.started": "2022-01-24T18:14:40.467426Z"
    }
   },
   "outputs": [
    {
     "data": {
      "text/html": [
       "<div>\n",
       "<style scoped>\n",
       "    .dataframe tbody tr th:only-of-type {\n",
       "        vertical-align: middle;\n",
       "    }\n",
       "\n",
       "    .dataframe tbody tr th {\n",
       "        vertical-align: top;\n",
       "    }\n",
       "\n",
       "    .dataframe thead th {\n",
       "        text-align: right;\n",
       "    }\n",
       "</style>\n",
       "<table border=\"1\" class=\"dataframe\">\n",
       "  <thead>\n",
       "    <tr style=\"text-align: right;\">\n",
       "      <th></th>\n",
       "      <th>hosp_yn</th>\n",
       "      <th>Date</th>\n",
       "      <th>Laboratory-confirmed case</th>\n",
       "      <th>Probable Case</th>\n",
       "      <th>0 - 9 Years</th>\n",
       "      <th>10 - 19 Years</th>\n",
       "      <th>20 - 29 Years</th>\n",
       "      <th>30 - 39 Years</th>\n",
       "      <th>40 - 49 Years</th>\n",
       "      <th>50 - 59 Years</th>\n",
       "      <th>...</th>\n",
       "      <th>Aug</th>\n",
       "      <th>Feb</th>\n",
       "      <th>Jan</th>\n",
       "      <th>July</th>\n",
       "      <th>June</th>\n",
       "      <th>March</th>\n",
       "      <th>May</th>\n",
       "      <th>Nov</th>\n",
       "      <th>Oct</th>\n",
       "      <th>Sept</th>\n",
       "    </tr>\n",
       "  </thead>\n",
       "  <tbody>\n",
       "    <tr>\n",
       "      <th>0</th>\n",
       "      <td>0</td>\n",
       "      <td>10</td>\n",
       "      <td>1</td>\n",
       "      <td>0</td>\n",
       "      <td>0</td>\n",
       "      <td>1</td>\n",
       "      <td>0</td>\n",
       "      <td>0</td>\n",
       "      <td>0</td>\n",
       "      <td>0</td>\n",
       "      <td>...</td>\n",
       "      <td>0</td>\n",
       "      <td>0</td>\n",
       "      <td>0</td>\n",
       "      <td>0</td>\n",
       "      <td>0</td>\n",
       "      <td>0</td>\n",
       "      <td>0</td>\n",
       "      <td>1</td>\n",
       "      <td>0</td>\n",
       "      <td>0</td>\n",
       "    </tr>\n",
       "    <tr>\n",
       "      <th>1</th>\n",
       "      <td>0</td>\n",
       "      <td>14</td>\n",
       "      <td>1</td>\n",
       "      <td>0</td>\n",
       "      <td>0</td>\n",
       "      <td>1</td>\n",
       "      <td>0</td>\n",
       "      <td>0</td>\n",
       "      <td>0</td>\n",
       "      <td>0</td>\n",
       "      <td>...</td>\n",
       "      <td>0</td>\n",
       "      <td>0</td>\n",
       "      <td>0</td>\n",
       "      <td>0</td>\n",
       "      <td>0</td>\n",
       "      <td>0</td>\n",
       "      <td>0</td>\n",
       "      <td>1</td>\n",
       "      <td>0</td>\n",
       "      <td>0</td>\n",
       "    </tr>\n",
       "    <tr>\n",
       "      <th>2</th>\n",
       "      <td>0</td>\n",
       "      <td>19</td>\n",
       "      <td>1</td>\n",
       "      <td>0</td>\n",
       "      <td>0</td>\n",
       "      <td>1</td>\n",
       "      <td>0</td>\n",
       "      <td>0</td>\n",
       "      <td>0</td>\n",
       "      <td>0</td>\n",
       "      <td>...</td>\n",
       "      <td>0</td>\n",
       "      <td>0</td>\n",
       "      <td>0</td>\n",
       "      <td>0</td>\n",
       "      <td>0</td>\n",
       "      <td>0</td>\n",
       "      <td>0</td>\n",
       "      <td>1</td>\n",
       "      <td>0</td>\n",
       "      <td>0</td>\n",
       "    </tr>\n",
       "    <tr>\n",
       "      <th>4</th>\n",
       "      <td>0</td>\n",
       "      <td>13</td>\n",
       "      <td>1</td>\n",
       "      <td>0</td>\n",
       "      <td>0</td>\n",
       "      <td>1</td>\n",
       "      <td>0</td>\n",
       "      <td>0</td>\n",
       "      <td>0</td>\n",
       "      <td>0</td>\n",
       "      <td>...</td>\n",
       "      <td>0</td>\n",
       "      <td>0</td>\n",
       "      <td>0</td>\n",
       "      <td>0</td>\n",
       "      <td>0</td>\n",
       "      <td>0</td>\n",
       "      <td>0</td>\n",
       "      <td>1</td>\n",
       "      <td>0</td>\n",
       "      <td>0</td>\n",
       "    </tr>\n",
       "    <tr>\n",
       "      <th>11</th>\n",
       "      <td>0</td>\n",
       "      <td>9</td>\n",
       "      <td>1</td>\n",
       "      <td>0</td>\n",
       "      <td>0</td>\n",
       "      <td>1</td>\n",
       "      <td>0</td>\n",
       "      <td>0</td>\n",
       "      <td>0</td>\n",
       "      <td>0</td>\n",
       "      <td>...</td>\n",
       "      <td>0</td>\n",
       "      <td>0</td>\n",
       "      <td>0</td>\n",
       "      <td>0</td>\n",
       "      <td>0</td>\n",
       "      <td>0</td>\n",
       "      <td>0</td>\n",
       "      <td>1</td>\n",
       "      <td>0</td>\n",
       "      <td>0</td>\n",
       "    </tr>\n",
       "  </tbody>\n",
       "</table>\n",
       "<p>5 rows × 34 columns</p>\n",
       "</div>"
      ],
      "text/plain": [
       "    hosp_yn  Date  Laboratory-confirmed case  Probable Case  0 - 9 Years  \\\n",
       "0         0    10                          1              0            0   \n",
       "1         0    14                          1              0            0   \n",
       "2         0    19                          1              0            0   \n",
       "4         0    13                          1              0            0   \n",
       "11        0     9                          1              0            0   \n",
       "\n",
       "    10 - 19 Years  20 - 29 Years  30 - 39 Years  40 - 49 Years  50 - 59 Years  \\\n",
       "0               1              0              0              0              0   \n",
       "1               1              0              0              0              0   \n",
       "2               1              0              0              0              0   \n",
       "4               1              0              0              0              0   \n",
       "11              1              0              0              0              0   \n",
       "\n",
       "    ...  Aug  Feb  Jan  July  June  March  May  Nov  Oct  Sept  \n",
       "0   ...    0    0    0     0     0      0    0    1    0     0  \n",
       "1   ...    0    0    0     0     0      0    0    1    0     0  \n",
       "2   ...    0    0    0     0     0      0    0    1    0     0  \n",
       "4   ...    0    0    0     0     0      0    0    1    0     0  \n",
       "11  ...    0    0    0     0     0      0    0    1    0     0  \n",
       "\n",
       "[5 rows x 34 columns]"
      ]
     },
     "execution_count": 107,
     "metadata": {},
     "output_type": "execute_result"
    }
   ],
   "source": [
    "X = Covid.drop(['death_yn'], axis=1)\n",
    "X.head()"
   ]
  },
  {
   "cell_type": "code",
   "execution_count": 108,
   "metadata": {
    "execution": {
     "iopub.execute_input": "2022-01-24T18:14:40.618143Z",
     "iopub.status.busy": "2022-01-24T18:14:40.617859Z",
     "iopub.status.idle": "2022-01-24T18:14:40.63737Z",
     "shell.execute_reply": "2022-01-24T18:14:40.636444Z",
     "shell.execute_reply.started": "2022-01-24T18:14:40.618101Z"
    }
   },
   "outputs": [
    {
     "data": {
      "text/plain": [
       "0     0\n",
       "1     0\n",
       "2     0\n",
       "4     0\n",
       "11    0\n",
       "Name: death_yn, dtype: int64"
      ]
     },
     "execution_count": 108,
     "metadata": {},
     "output_type": "execute_result"
    }
   ],
   "source": [
    "y = Covid['death_yn']\n",
    "y.head()"
   ]
  },
  {
   "cell_type": "code",
   "execution_count": 109,
   "metadata": {
    "execution": {
     "iopub.execute_input": "2022-01-24T18:14:40.640744Z",
     "iopub.status.busy": "2022-01-24T18:14:40.639924Z",
     "iopub.status.idle": "2022-01-24T18:14:40.653432Z",
     "shell.execute_reply": "2022-01-24T18:14:40.652579Z",
     "shell.execute_reply.started": "2022-01-24T18:14:40.640697Z"
    }
   },
   "outputs": [],
   "source": [
    "#Taking a very small sample of the data, 1% for training as we have a lot of data. "
   ]
  },
  {
   "cell_type": "code",
   "execution_count": 110,
   "metadata": {
    "execution": {
     "iopub.execute_input": "2022-01-24T18:14:40.657168Z",
     "iopub.status.busy": "2022-01-24T18:14:40.655037Z",
     "iopub.status.idle": "2022-01-24T18:14:42.669869Z",
     "shell.execute_reply": "2022-01-24T18:14:42.668827Z",
     "shell.execute_reply.started": "2022-01-24T18:14:40.657068Z"
    }
   },
   "outputs": [
    {
     "data": {
      "text/html": [
       "<div>\n",
       "<style scoped>\n",
       "    .dataframe tbody tr th:only-of-type {\n",
       "        vertical-align: middle;\n",
       "    }\n",
       "\n",
       "    .dataframe tbody tr th {\n",
       "        vertical-align: top;\n",
       "    }\n",
       "\n",
       "    .dataframe thead th {\n",
       "        text-align: right;\n",
       "    }\n",
       "</style>\n",
       "<table border=\"1\" class=\"dataframe\">\n",
       "  <thead>\n",
       "    <tr style=\"text-align: right;\">\n",
       "      <th></th>\n",
       "      <th>hosp_yn</th>\n",
       "      <th>Date</th>\n",
       "      <th>Laboratory-confirmed case</th>\n",
       "      <th>Probable Case</th>\n",
       "      <th>0 - 9 Years</th>\n",
       "      <th>10 - 19 Years</th>\n",
       "      <th>20 - 29 Years</th>\n",
       "      <th>30 - 39 Years</th>\n",
       "      <th>40 - 49 Years</th>\n",
       "      <th>50 - 59 Years</th>\n",
       "      <th>...</th>\n",
       "      <th>Aug</th>\n",
       "      <th>Feb</th>\n",
       "      <th>Jan</th>\n",
       "      <th>July</th>\n",
       "      <th>June</th>\n",
       "      <th>March</th>\n",
       "      <th>May</th>\n",
       "      <th>Nov</th>\n",
       "      <th>Oct</th>\n",
       "      <th>Sept</th>\n",
       "    </tr>\n",
       "  </thead>\n",
       "  <tbody>\n",
       "    <tr>\n",
       "      <th>6850701</th>\n",
       "      <td>1</td>\n",
       "      <td>10</td>\n",
       "      <td>1</td>\n",
       "      <td>0</td>\n",
       "      <td>0</td>\n",
       "      <td>0</td>\n",
       "      <td>0</td>\n",
       "      <td>0</td>\n",
       "      <td>0</td>\n",
       "      <td>0</td>\n",
       "      <td>...</td>\n",
       "      <td>0</td>\n",
       "      <td>0</td>\n",
       "      <td>0</td>\n",
       "      <td>1</td>\n",
       "      <td>0</td>\n",
       "      <td>0</td>\n",
       "      <td>0</td>\n",
       "      <td>0</td>\n",
       "      <td>0</td>\n",
       "      <td>0</td>\n",
       "    </tr>\n",
       "    <tr>\n",
       "      <th>3509308</th>\n",
       "      <td>0</td>\n",
       "      <td>23</td>\n",
       "      <td>1</td>\n",
       "      <td>0</td>\n",
       "      <td>0</td>\n",
       "      <td>0</td>\n",
       "      <td>0</td>\n",
       "      <td>0</td>\n",
       "      <td>0</td>\n",
       "      <td>0</td>\n",
       "      <td>...</td>\n",
       "      <td>0</td>\n",
       "      <td>0</td>\n",
       "      <td>0</td>\n",
       "      <td>0</td>\n",
       "      <td>0</td>\n",
       "      <td>0</td>\n",
       "      <td>0</td>\n",
       "      <td>0</td>\n",
       "      <td>1</td>\n",
       "      <td>0</td>\n",
       "    </tr>\n",
       "    <tr>\n",
       "      <th>2411316</th>\n",
       "      <td>0</td>\n",
       "      <td>10</td>\n",
       "      <td>1</td>\n",
       "      <td>0</td>\n",
       "      <td>0</td>\n",
       "      <td>0</td>\n",
       "      <td>0</td>\n",
       "      <td>0</td>\n",
       "      <td>1</td>\n",
       "      <td>0</td>\n",
       "      <td>...</td>\n",
       "      <td>0</td>\n",
       "      <td>0</td>\n",
       "      <td>0</td>\n",
       "      <td>0</td>\n",
       "      <td>0</td>\n",
       "      <td>0</td>\n",
       "      <td>0</td>\n",
       "      <td>0</td>\n",
       "      <td>0</td>\n",
       "      <td>1</td>\n",
       "    </tr>\n",
       "    <tr>\n",
       "      <th>5132619</th>\n",
       "      <td>0</td>\n",
       "      <td>28</td>\n",
       "      <td>1</td>\n",
       "      <td>0</td>\n",
       "      <td>0</td>\n",
       "      <td>0</td>\n",
       "      <td>0</td>\n",
       "      <td>0</td>\n",
       "      <td>0</td>\n",
       "      <td>0</td>\n",
       "      <td>...</td>\n",
       "      <td>0</td>\n",
       "      <td>0</td>\n",
       "      <td>0</td>\n",
       "      <td>1</td>\n",
       "      <td>0</td>\n",
       "      <td>0</td>\n",
       "      <td>0</td>\n",
       "      <td>0</td>\n",
       "      <td>0</td>\n",
       "      <td>0</td>\n",
       "    </tr>\n",
       "    <tr>\n",
       "      <th>1310517</th>\n",
       "      <td>0</td>\n",
       "      <td>17</td>\n",
       "      <td>1</td>\n",
       "      <td>0</td>\n",
       "      <td>0</td>\n",
       "      <td>0</td>\n",
       "      <td>0</td>\n",
       "      <td>1</td>\n",
       "      <td>0</td>\n",
       "      <td>0</td>\n",
       "      <td>...</td>\n",
       "      <td>0</td>\n",
       "      <td>0</td>\n",
       "      <td>0</td>\n",
       "      <td>0</td>\n",
       "      <td>0</td>\n",
       "      <td>0</td>\n",
       "      <td>0</td>\n",
       "      <td>1</td>\n",
       "      <td>0</td>\n",
       "      <td>0</td>\n",
       "    </tr>\n",
       "  </tbody>\n",
       "</table>\n",
       "<p>5 rows × 34 columns</p>\n",
       "</div>"
      ],
      "text/plain": [
       "         hosp_yn  Date  Laboratory-confirmed case  Probable Case  0 - 9 Years  \\\n",
       "6850701        1    10                          1              0            0   \n",
       "3509308        0    23                          1              0            0   \n",
       "2411316        0    10                          1              0            0   \n",
       "5132619        0    28                          1              0            0   \n",
       "1310517        0    17                          1              0            0   \n",
       "\n",
       "         10 - 19 Years  20 - 29 Years  30 - 39 Years  40 - 49 Years  \\\n",
       "6850701              0              0              0              0   \n",
       "3509308              0              0              0              0   \n",
       "2411316              0              0              0              1   \n",
       "5132619              0              0              0              0   \n",
       "1310517              0              0              1              0   \n",
       "\n",
       "         50 - 59 Years  ...  Aug  Feb  Jan  July  June  March  May  Nov  Oct  \\\n",
       "6850701              0  ...    0    0    0     1     0      0    0    0    0   \n",
       "3509308              0  ...    0    0    0     0     0      0    0    0    1   \n",
       "2411316              0  ...    0    0    0     0     0      0    0    0    0   \n",
       "5132619              0  ...    0    0    0     1     0      0    0    0    0   \n",
       "1310517              0  ...    0    0    0     0     0      0    0    1    0   \n",
       "\n",
       "         Sept  \n",
       "6850701     0  \n",
       "3509308     0  \n",
       "2411316     1  \n",
       "5132619     0  \n",
       "1310517     0  \n",
       "\n",
       "[5 rows x 34 columns]"
      ]
     },
     "execution_count": 110,
     "metadata": {},
     "output_type": "execute_result"
    }
   ],
   "source": [
    "from sklearn.model_selection import train_test_split\n",
    "X_train, X_test, y_train, y_test = train_test_split(X, y, train_size=0.05, random_state=100)\n",
    "X_train.head()"
   ]
  },
  {
   "cell_type": "code",
   "execution_count": 113,
   "metadata": {
    "execution": {
     "iopub.execute_input": "2022-01-24T18:14:42.696081Z",
     "iopub.status.busy": "2022-01-24T18:14:42.671119Z",
     "iopub.status.idle": "2022-01-24T18:14:42.87057Z",
     "shell.execute_reply": "2022-01-24T18:14:42.869649Z",
     "shell.execute_reply.started": "2022-01-24T18:14:42.671432Z"
    }
   },
   "outputs": [],
   "source": [
    "from sklearn.ensemble import RandomForestClassifier"
   ]
  },
  {
   "cell_type": "code",
   "execution_count": 114,
   "metadata": {
    "execution": {
     "iopub.execute_input": "2022-01-24T18:14:42.885497Z",
     "iopub.status.busy": "2022-01-24T18:14:42.872121Z",
     "iopub.status.idle": "2022-01-24T18:39:42.105616Z",
     "shell.execute_reply": "2022-01-24T18:39:42.104352Z",
     "shell.execute_reply.started": "2022-01-24T18:14:42.885412Z"
    }
   },
   "outputs": [
    {
     "data": {
      "text/plain": [
       "RandomForestClassifier(class_weight='balanced', n_jobs=-1, random_state=100)"
      ]
     },
     "execution_count": 114,
     "metadata": {},
     "output_type": "execute_result"
    }
   ],
   "source": [
    "model = RandomForestClassifier(random_state=100,n_jobs=-1,class_weight='balanced')\n",
    "model.fit(X_train,y_train)"
   ]
  },
  {
   "cell_type": "code",
   "execution_count": 117,
   "metadata": {
    "execution": {
     "iopub.execute_input": "2022-01-24T18:39:42.10705Z",
     "iopub.status.busy": "2022-01-24T18:39:42.106873Z",
     "iopub.status.idle": "2022-01-24T18:39:42.110616Z",
     "shell.execute_reply": "2022-01-24T18:39:42.110161Z",
     "shell.execute_reply.started": "2022-01-24T18:39:42.107027Z"
    }
   },
   "outputs": [
    {
     "data": {
      "text/plain": [
       "RandomForestClassifier(class_weight='balanced', n_jobs=-1, random_state=100)"
      ]
     },
     "execution_count": 117,
     "metadata": {},
     "output_type": "execute_result"
    }
   ],
   "source": [
    "model = RandomForestClassifier(random_state=100, n_jobs=-1,class_weight='balanced')\n",
    "model.fit(X_train, y_train)"
   ]
  },
  {
   "cell_type": "code",
   "execution_count": 120,
   "metadata": {},
   "outputs": [],
   "source": [
    "predictions = model.predict(X_test)"
   ]
  },
  {
   "cell_type": "code",
   "execution_count": 121,
   "metadata": {},
   "outputs": [
    {
     "name": "stdout",
     "output_type": "stream",
     "text": [
      "0.9263089917585797\n"
     ]
    }
   ],
   "source": [
    "score = model.score(X_test, y_test)\n",
    "print(score)"
   ]
  },
  {
   "cell_type": "code",
   "execution_count": 122,
   "metadata": {},
   "outputs": [],
   "source": [
    "from sklearn.metrics import confusion_matrix\n",
    "from sklearn.metrics import precision_score, recall_score, f1_score, accuracy_score\n",
    "conf_matrix = confusion_matrix(y_true=y_test, y_pred=predictions)"
   ]
  },
  {
   "cell_type": "code",
   "execution_count": 123,
   "metadata": {},
   "outputs": [
    {
     "data": {
      "image/png": "[encoded data removed]",
      "text/plain": [
       "<Figure size 360x360 with 1 Axes>"
      ]
     },
     "metadata": {
      "needs_background": "light"
     },
     "output_type": "display_data"
    }
   ],
   "source": [
    "import matplotlib.pyplot as plt\n",
    "\n",
    "fig, ax = plt.subplots(figsize=(5, 5))\n",
    "ax.matshow(conf_matrix, cmap=plt.cm.Oranges, alpha=0.3)\n",
    "for i in range(conf_matrix.shape[0]):\n",
    "    for j in range(conf_matrix.shape[1]):\n",
    "        ax.text(x=j, y=i,s=conf_matrix[i, j], va='center', ha='center', size='xx-large')\n",
    " \n",
    "plt.xlabel('Predictions', fontsize=18)\n",
    "plt.ylabel('Actuals', fontsize=18)\n",
    "plt.title('Confusion Matrix', fontsize=18)\n",
    "plt.show()"
   ]
  },
  {
   "cell_type": "code",
   "execution_count": 141,
   "metadata": {},
   "outputs": [
    {
     "data": {
      "image/png": "[encoded data removed]",
      "text/plain": [
       "<Figure size 432x288 with 1 Axes>"
      ]
     },
     "metadata": {
      "needs_background": "light"
     },
     "output_type": "display_data"
    }
   ],
   "source": [
    "from sklearn.metrics import roc_curve,auc\n",
    "\n",
    "fpr,tpr,_=roc_curve(y_test,predictions)\n",
    "\n",
    "roc_auc=auc(fpr,tpr)\n",
    "\n",
    "# Plot of a ROC curve for a specific class\n",
    "plt.figure()\n",
    "plt.plot(fpr, tpr, label='ROC curve (area = %0.2f)' % roc_auc)\n",
    "plt.plot([0, 1], [0, 1], 'k--')\n",
    "plt.xlim([0.0, 1.0])\n",
    "plt.ylim([0.0, 1.05])\n",
    "plt.xlabel('False Positive Rate')\n",
    "plt.ylabel('True Positive Rate')\n",
    "plt.title('ROC Curve')\n",
    "plt.legend(loc=\"lower right\")\n",
    "plt.show()"
   ]
  },
  {
   "cell_type": "code",
   "execution_count": 139,
   "metadata": {},
   "outputs": [
    {
     "name": "stdout",
     "output_type": "stream",
     "text": [
      "Accuracy:  0.951168122947264\n",
      "Recall:  0.9646924829157175\n",
      "Precision: 0.5280548628428927\n",
      "F1 Score: 0.6825141015310233\n"
     ]
    }
   ],
   "source": [
    "y_train_pred = model.predict(X_train)\n",
    "print(\"Accuracy: \", accuracy_score(y_train, y_train_pred))\n",
    "print(\"Recall: \", recall_score(y_train, y_train_pred))\n",
    "print(\"Precision:\", precision_score(y_train, y_train_pred))\n",
    "print(\"F1 Score:\", f1_score(y_train, y_train_pred))"
   ]
  },
  {
   "cell_type": "code",
   "execution_count": 140,
   "metadata": {
    "execution": {
     "iopub.execute_input": "2022-01-24T18:39:42.508672Z",
     "iopub.status.busy": "2022-01-24T18:39:42.508478Z",
     "iopub.status.idle": "2022-01-24T18:39:51.95561Z",
     "shell.execute_reply": "2022-01-24T18:39:51.954462Z",
     "shell.execute_reply.started": "2022-01-24T18:39:42.508647Z"
    }
   },
   "outputs": [
    {
     "name": "stdout",
     "output_type": "stream",
     "text": [
      "Accuracy:  0.9263089917585797\n",
      "Recall:  0.6776389570337141\n",
      "Precision: 0.3892294220665499\n",
      "F1 Score: 0.4944509084399893\n"
     ]
    }
   ],
   "source": [
    "y_test_pred = model.predict(X_test)\n",
    "print(\"Accuracy: \", accuracy_score(y_test, y_test_pred))\n",
    "print(\"Recall: \", recall_score(y_test, y_test_pred))\n",
    "print(\"Precision:\", precision_score(y_test, y_test_pred))\n",
    "print(\"F1 Score:\", f1_score(y_test, y_test_pred))"
   ]
  },
  {
   "cell_type": "markdown",
   "metadata": {
    "execution": {
     "iopub.execute_input": "2022-01-24T18:39:52.080484Z",
     "iopub.status.busy": "2022-01-24T18:39:52.08016Z",
     "iopub.status.idle": "2022-01-24T18:39:52.093231Z",
     "shell.execute_reply": "2022-01-24T18:39:52.092707Z",
     "shell.execute_reply.started": "2022-01-24T18:39:52.080456Z"
    }
   },
   "source": [
    "# END FOR NOW #"
   ]
  }
 ],
 "metadata": {
  "kernelspec": {
   "display_name": "Python 3 (ipykernel)",
   "language": "python",
   "name": "python3"
  },
  "language_info": {
   "codemirror_mode": {
    "name": "ipython",
    "version": 3
   },
   "file_extension": ".py",
   "mimetype": "text/x-python",
   "name": "python",
   "nbconvert_exporter": "python",
   "pygments_lexer": "ipython3",
   "version": "3.9.12"
  }
 },
 "nbformat": 4,
 "nbformat_minor": 4
}
